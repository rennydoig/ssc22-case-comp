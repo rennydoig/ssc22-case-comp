{
  "cells": [
    {
      "cell_type": "markdown",
      "metadata": {
        "id": "view-in-github",
        "colab_type": "text"
      },
      "source": [
        "<a href=\"https://colab.research.google.com/github/rennydoig/ssc22-case-comp/blob/main/Daisy_dir/The_mixed_effect_model.ipynb\" target=\"_parent\"><img src=\"https://colab.research.google.com/assets/colab-badge.svg\" alt=\"Open In Colab\"/></a>"
      ]
    },
    {
      "cell_type": "code",
      "execution_count": 1,
      "metadata": {
        "colab": {
          "base_uri": "https://localhost:8080/"
        },
        "id": "zPWZk9Dj9dbA",
        "outputId": "e204ff7d-1851-4c55-85a7-428915bf2d04"
      },
      "outputs": [
        {
          "output_type": "stream",
          "name": "stdout",
          "text": [
            "Collecting geopandas\n",
            "  Downloading geopandas-0.10.2-py2.py3-none-any.whl (1.0 MB)\n",
            "\u001b[?25l\r\u001b[K     |▎                               | 10 kB 21.2 MB/s eta 0:00:01\r\u001b[K     |▋                               | 20 kB 22.7 MB/s eta 0:00:01\r\u001b[K     |█                               | 30 kB 25.1 MB/s eta 0:00:01\r\u001b[K     |█▎                              | 40 kB 18.7 MB/s eta 0:00:01\r\u001b[K     |█▋                              | 51 kB 16.6 MB/s eta 0:00:01\r\u001b[K     |██                              | 61 kB 18.7 MB/s eta 0:00:01\r\u001b[K     |██▎                             | 71 kB 14.0 MB/s eta 0:00:01\r\u001b[K     |██▌                             | 81 kB 15.1 MB/s eta 0:00:01\r\u001b[K     |██▉                             | 92 kB 16.3 MB/s eta 0:00:01\r\u001b[K     |███▏                            | 102 kB 16.9 MB/s eta 0:00:01\r\u001b[K     |███▌                            | 112 kB 16.9 MB/s eta 0:00:01\r\u001b[K     |███▉                            | 122 kB 16.9 MB/s eta 0:00:01\r\u001b[K     |████▏                           | 133 kB 16.9 MB/s eta 0:00:01\r\u001b[K     |████▌                           | 143 kB 16.9 MB/s eta 0:00:01\r\u001b[K     |████▊                           | 153 kB 16.9 MB/s eta 0:00:01\r\u001b[K     |█████                           | 163 kB 16.9 MB/s eta 0:00:01\r\u001b[K     |█████▍                          | 174 kB 16.9 MB/s eta 0:00:01\r\u001b[K     |█████▊                          | 184 kB 16.9 MB/s eta 0:00:01\r\u001b[K     |██████                          | 194 kB 16.9 MB/s eta 0:00:01\r\u001b[K     |██████▍                         | 204 kB 16.9 MB/s eta 0:00:01\r\u001b[K     |██████▊                         | 215 kB 16.9 MB/s eta 0:00:01\r\u001b[K     |███████                         | 225 kB 16.9 MB/s eta 0:00:01\r\u001b[K     |███████▎                        | 235 kB 16.9 MB/s eta 0:00:01\r\u001b[K     |███████▋                        | 245 kB 16.9 MB/s eta 0:00:01\r\u001b[K     |████████                        | 256 kB 16.9 MB/s eta 0:00:01\r\u001b[K     |████████▎                       | 266 kB 16.9 MB/s eta 0:00:01\r\u001b[K     |████████▋                       | 276 kB 16.9 MB/s eta 0:00:01\r\u001b[K     |█████████                       | 286 kB 16.9 MB/s eta 0:00:01\r\u001b[K     |█████████▏                      | 296 kB 16.9 MB/s eta 0:00:01\r\u001b[K     |█████████▌                      | 307 kB 16.9 MB/s eta 0:00:01\r\u001b[K     |█████████▉                      | 317 kB 16.9 MB/s eta 0:00:01\r\u001b[K     |██████████▏                     | 327 kB 16.9 MB/s eta 0:00:01\r\u001b[K     |██████████▌                     | 337 kB 16.9 MB/s eta 0:00:01\r\u001b[K     |██████████▉                     | 348 kB 16.9 MB/s eta 0:00:01\r\u001b[K     |███████████▏                    | 358 kB 16.9 MB/s eta 0:00:01\r\u001b[K     |███████████▍                    | 368 kB 16.9 MB/s eta 0:00:01\r\u001b[K     |███████████▊                    | 378 kB 16.9 MB/s eta 0:00:01\r\u001b[K     |████████████                    | 389 kB 16.9 MB/s eta 0:00:01\r\u001b[K     |████████████▍                   | 399 kB 16.9 MB/s eta 0:00:01\r\u001b[K     |████████████▊                   | 409 kB 16.9 MB/s eta 0:00:01\r\u001b[K     |█████████████                   | 419 kB 16.9 MB/s eta 0:00:01\r\u001b[K     |█████████████▍                  | 430 kB 16.9 MB/s eta 0:00:01\r\u001b[K     |█████████████▋                  | 440 kB 16.9 MB/s eta 0:00:01\r\u001b[K     |██████████████                  | 450 kB 16.9 MB/s eta 0:00:01\r\u001b[K     |██████████████▎                 | 460 kB 16.9 MB/s eta 0:00:01\r\u001b[K     |██████████████▋                 | 471 kB 16.9 MB/s eta 0:00:01\r\u001b[K     |███████████████                 | 481 kB 16.9 MB/s eta 0:00:01\r\u001b[K     |███████████████▎                | 491 kB 16.9 MB/s eta 0:00:01\r\u001b[K     |███████████████▋                | 501 kB 16.9 MB/s eta 0:00:01\r\u001b[K     |███████████████▉                | 512 kB 16.9 MB/s eta 0:00:01\r\u001b[K     |████████████████▏               | 522 kB 16.9 MB/s eta 0:00:01\r\u001b[K     |████████████████▌               | 532 kB 16.9 MB/s eta 0:00:01\r\u001b[K     |████████████████▉               | 542 kB 16.9 MB/s eta 0:00:01\r\u001b[K     |█████████████████▏              | 552 kB 16.9 MB/s eta 0:00:01\r\u001b[K     |█████████████████▌              | 563 kB 16.9 MB/s eta 0:00:01\r\u001b[K     |█████████████████▉              | 573 kB 16.9 MB/s eta 0:00:01\r\u001b[K     |██████████████████              | 583 kB 16.9 MB/s eta 0:00:01\r\u001b[K     |██████████████████▍             | 593 kB 16.9 MB/s eta 0:00:01\r\u001b[K     |██████████████████▊             | 604 kB 16.9 MB/s eta 0:00:01\r\u001b[K     |███████████████████             | 614 kB 16.9 MB/s eta 0:00:01\r\u001b[K     |███████████████████▍            | 624 kB 16.9 MB/s eta 0:00:01\r\u001b[K     |███████████████████▊            | 634 kB 16.9 MB/s eta 0:00:01\r\u001b[K     |████████████████████            | 645 kB 16.9 MB/s eta 0:00:01\r\u001b[K     |████████████████████▎           | 655 kB 16.9 MB/s eta 0:00:01\r\u001b[K     |████████████████████▋           | 665 kB 16.9 MB/s eta 0:00:01\r\u001b[K     |█████████████████████           | 675 kB 16.9 MB/s eta 0:00:01\r\u001b[K     |█████████████████████▎          | 686 kB 16.9 MB/s eta 0:00:01\r\u001b[K     |█████████████████████▋          | 696 kB 16.9 MB/s eta 0:00:01\r\u001b[K     |██████████████████████          | 706 kB 16.9 MB/s eta 0:00:01\r\u001b[K     |██████████████████████▎         | 716 kB 16.9 MB/s eta 0:00:01\r\u001b[K     |██████████████████████▋         | 727 kB 16.9 MB/s eta 0:00:01\r\u001b[K     |██████████████████████▉         | 737 kB 16.9 MB/s eta 0:00:01\r\u001b[K     |███████████████████████▏        | 747 kB 16.9 MB/s eta 0:00:01\r\u001b[K     |███████████████████████▌        | 757 kB 16.9 MB/s eta 0:00:01\r\u001b[K     |███████████████████████▉        | 768 kB 16.9 MB/s eta 0:00:01\r\u001b[K     |████████████████████████▏       | 778 kB 16.9 MB/s eta 0:00:01\r\u001b[K     |████████████████████████▌       | 788 kB 16.9 MB/s eta 0:00:01\r\u001b[K     |████████████████████████▉       | 798 kB 16.9 MB/s eta 0:00:01\r\u001b[K     |█████████████████████████       | 808 kB 16.9 MB/s eta 0:00:01\r\u001b[K     |█████████████████████████▍      | 819 kB 16.9 MB/s eta 0:00:01\r\u001b[K     |█████████████████████████▊      | 829 kB 16.9 MB/s eta 0:00:01\r\u001b[K     |██████████████████████████      | 839 kB 16.9 MB/s eta 0:00:01\r\u001b[K     |██████████████████████████▍     | 849 kB 16.9 MB/s eta 0:00:01\r\u001b[K     |██████████████████████████▊     | 860 kB 16.9 MB/s eta 0:00:01\r\u001b[K     |███████████████████████████     | 870 kB 16.9 MB/s eta 0:00:01\r\u001b[K     |███████████████████████████▎    | 880 kB 16.9 MB/s eta 0:00:01\r\u001b[K     |███████████████████████████▋    | 890 kB 16.9 MB/s eta 0:00:01\r\u001b[K     |████████████████████████████    | 901 kB 16.9 MB/s eta 0:00:01\r\u001b[K     |████████████████████████████▎   | 911 kB 16.9 MB/s eta 0:00:01\r\u001b[K     |████████████████████████████▋   | 921 kB 16.9 MB/s eta 0:00:01\r\u001b[K     |█████████████████████████████   | 931 kB 16.9 MB/s eta 0:00:01\r\u001b[K     |█████████████████████████████▎  | 942 kB 16.9 MB/s eta 0:00:01\r\u001b[K     |█████████████████████████████▌  | 952 kB 16.9 MB/s eta 0:00:01\r\u001b[K     |█████████████████████████████▉  | 962 kB 16.9 MB/s eta 0:00:01\r\u001b[K     |██████████████████████████████▏ | 972 kB 16.9 MB/s eta 0:00:01\r\u001b[K     |██████████████████████████████▌ | 983 kB 16.9 MB/s eta 0:00:01\r\u001b[K     |██████████████████████████████▉ | 993 kB 16.9 MB/s eta 0:00:01\r\u001b[K     |███████████████████████████████▏| 1.0 MB 16.9 MB/s eta 0:00:01\r\u001b[K     |███████████████████████████████▌| 1.0 MB 16.9 MB/s eta 0:00:01\r\u001b[K     |███████████████████████████████▊| 1.0 MB 16.9 MB/s eta 0:00:01\r\u001b[K     |████████████████████████████████| 1.0 MB 16.9 MB/s \n",
            "\u001b[?25hCollecting rtree\n",
            "  Downloading Rtree-1.0.0-cp37-cp37m-manylinux_2_17_x86_64.manylinux2014_x86_64.whl (1.0 MB)\n",
            "\u001b[K     |████████████████████████████████| 1.0 MB 64.2 MB/s \n",
            "\u001b[?25hCollecting fiona>=1.8\n",
            "  Downloading Fiona-1.8.21-cp37-cp37m-manylinux2014_x86_64.whl (16.7 MB)\n",
            "\u001b[K     |████████████████████████████████| 16.7 MB 49.0 MB/s \n",
            "\u001b[?25hCollecting pyproj>=2.2.0\n",
            "  Downloading pyproj-3.2.1-cp37-cp37m-manylinux2010_x86_64.whl (6.3 MB)\n",
            "\u001b[K     |████████████████████████████████| 6.3 MB 20.9 MB/s \n",
            "\u001b[?25hRequirement already satisfied: shapely>=1.6 in /usr/local/lib/python3.7/dist-packages (from geopandas) (1.8.1.post1)\n",
            "Requirement already satisfied: pandas>=0.25.0 in /usr/local/lib/python3.7/dist-packages (from geopandas) (1.3.5)\n",
            "Collecting cligj>=0.5\n",
            "  Downloading cligj-0.7.2-py3-none-any.whl (7.1 kB)\n",
            "Collecting munch\n",
            "  Downloading munch-2.5.0-py2.py3-none-any.whl (10 kB)\n",
            "Requirement already satisfied: six>=1.7 in /usr/local/lib/python3.7/dist-packages (from fiona>=1.8->geopandas) (1.15.0)\n",
            "Requirement already satisfied: setuptools in /usr/local/lib/python3.7/dist-packages (from fiona>=1.8->geopandas) (57.4.0)\n",
            "Requirement already satisfied: click>=4.0 in /usr/local/lib/python3.7/dist-packages (from fiona>=1.8->geopandas) (7.1.2)\n",
            "Requirement already satisfied: attrs>=17 in /usr/local/lib/python3.7/dist-packages (from fiona>=1.8->geopandas) (21.4.0)\n",
            "Requirement already satisfied: certifi in /usr/local/lib/python3.7/dist-packages (from fiona>=1.8->geopandas) (2021.10.8)\n",
            "Collecting click-plugins>=1.0\n",
            "  Downloading click_plugins-1.1.1-py2.py3-none-any.whl (7.5 kB)\n",
            "Requirement already satisfied: pytz>=2017.3 in /usr/local/lib/python3.7/dist-packages (from pandas>=0.25.0->geopandas) (2022.1)\n",
            "Requirement already satisfied: python-dateutil>=2.7.3 in /usr/local/lib/python3.7/dist-packages (from pandas>=0.25.0->geopandas) (2.8.2)\n",
            "Requirement already satisfied: numpy>=1.17.3 in /usr/local/lib/python3.7/dist-packages (from pandas>=0.25.0->geopandas) (1.21.6)\n",
            "Requirement already satisfied: typing-extensions>=3.7 in /usr/local/lib/python3.7/dist-packages (from rtree) (4.1.1)\n",
            "Installing collected packages: munch, cligj, click-plugins, pyproj, fiona, rtree, geopandas\n",
            "Successfully installed click-plugins-1.1.1 cligj-0.7.2 fiona-1.8.21 geopandas-0.10.2 munch-2.5.0 pyproj-3.2.1 rtree-1.0.0\n",
            "Mounted at /content/drive\n"
          ]
        }
      ],
      "source": [
        "import pandas as pd\n",
        "import numpy as np\n",
        "import os\n",
        "import csv\n",
        "!pip install geopandas rtree\n",
        "import geopandas as gpd\n",
        "from shapely.geometry import Polygon\n",
        "from shapely.ops import unary_union\n",
        "from sklearn.cluster import DBSCAN\n",
        "import matplotlib.pyplot as plt\n",
        "import seaborn as sns\n",
        "from google.colab import drive\n",
        "import pickle\n",
        "import datetime\n",
        "drive.mount('/content/drive')"
      ]
    },
    {
      "cell_type": "markdown",
      "metadata": {
        "id": "2eFi6507_PN9"
      },
      "source": [
        "# The mixed effects model\n",
        "\n",
        "The mixed effects model Yij = β0 + β1Tij + Vi + ϵij, where\n",
        "*   Yij: download/upload speed for subject j in cluster i\n",
        "*   Tij: time (fixed effect)\n",
        "*   Vi: cluster-specific random effect such that Vi ~ N(0, Σ)\n",
        "*   ϵij: subject-specific random effect such that eij ~ N(0, σ^2I) "
      ]
    },
    {
      "cell_type": "code",
      "execution_count": 2,
      "metadata": {
        "id": "XpZ4087O_Pzw",
        "colab": {
          "base_uri": "https://localhost:8080/"
        },
        "outputId": "d2a50a98-6bee-416b-e45c-bc2d7b94b207"
      },
      "outputs": [
        {
          "output_type": "stream",
          "name": "stderr",
          "text": [
            "/usr/local/lib/python3.7/dist-packages/statsmodels/tools/_testing.py:19: FutureWarning: pandas.util.testing is deprecated. Use the functions in the public API at pandas.testing instead.\n",
            "  import pandas.util.testing as tm\n"
          ]
        }
      ],
      "source": [
        "import statsmodels.api as sm\n",
        "import statsmodels.formula.api as smf\n",
        "from sklearn.linear_model import LinearRegression\n",
        "from sklearn.model_selection import train_test_split\n",
        "from sklearn import metrics\n",
        "from sklearn.metrics import classification_report\n",
        "from sklearn.metrics import accuracy_score"
      ]
    },
    {
      "cell_type": "code",
      "execution_count": 3,
      "metadata": {
        "id": "WndAYAsqKPvb"
      },
      "outputs": [],
      "source": [
        "# Residual plot\n",
        "# performance = pd.DataFrame()\n",
        "# performance[\"residuals\"] = result.resid.values\n",
        "# performance[\"actual\"] = data_train['avg_u_mbps']\n",
        "# performance[\"fitted\"] = result.fittedvalues\n",
        "# ax = sns.residplot(x = \"fitted\", y = \"residuals\", data = performance, lowess=True)\n",
        "# ax.set(ylabel='residuals')\n",
        "# plt.show()\n",
        "\n",
        "def mixedEffctModel(data, formula, random_effect, random_intercept=False, re_formula=None):\n",
        "  if random_intercept:\n",
        "    model = smf.mixedlm(formula, data_train, groups=data_train[random_effect], re_formula=re_formula)\n",
        "    #free = sm.regression.mixed_linear_model.MixedLMParams.from_components(np.ones(2), np.eye(2))\n",
        "  else: \n",
        "    model = smf.mixedlm(formula, data_train, groups=data_train[random_effect])\n",
        "\n",
        "  result = model.fit()\n",
        "  print(result.summary())\n",
        "  return result\n",
        "\n",
        "def makePrediction(true, model_fit, random_effect, random_intercept=False):\n",
        "  fix_eff_pred = result.predict(exog=data_test)\n",
        "  \n",
        "  # The prediction on random effects\n",
        "  ran_eff_pred = []\n",
        "\n",
        "  if random_intercept:\n",
        "    for i in range(data_test.shape[0]):\n",
        "      x = data_test['CDNAME'].iloc[i]\n",
        "      t = data_test['Time'].iloc[i]\n",
        "      p = result.random_effects[x][0]+t*result.random_effects[x][1]\n",
        "      ran_eff_pred.append(p)\n",
        "\n",
        "    # Add the fixed and random effects to get the overall prediction\n",
        "    pred = fix_eff_pred + ran_eff_pred\n",
        "  else:\n",
        "      for i in range(data_test.shape[0]):\n",
        "        x = data_test[random_effect].iloc[i]\n",
        "        ran_eff_pred.append(result.random_effects[x])\n",
        "\n",
        "      # Add the fixed and random effects to get the overall prediction\n",
        "      pred = fix_eff_pred + np.concatenate(ran_eff_pred)\n",
        "\n",
        "  # Get RMSE\n",
        "  print(\"RMSE: {}\".format(np.sqrt(metrics.mean_squared_error(true, pred))))\n",
        "\n",
        "  # Get accuracy\n",
        "  pred_class = [int(p >= 50) for p in pred]\n",
        "  true_class = [int(p >= 50) for p in true]\n",
        "  print(\"Accuracy: {}\".format(accuracy_score(true_class, pred_class, normalize=False)/float(len(true_class))))\n",
        "\n",
        "  # Get confusion matrix\n",
        "  print(metrics.confusion_matrix(true_class, pred_class))\n",
        "\n",
        "  # Get classification report\n",
        "  print(classification_report(true_class,pred_class))\n",
        "\n",
        "\n",
        "def makeData(df,groups,conn_type):\n",
        "  df['avg_d_mbps'] = df['avg_d_kbps'] / 1000\n",
        "  df['avg_u_mbps'] = df['avg_u_kbps'] / 1000\n",
        "\n",
        "  df['YQ'] = [\"-\".join(i) for i in zip(df['year'].astype(str), df['quarter'])]\n",
        "  t_vals = sorted(df['YQ'].unique()) # sorts year-quarter values\n",
        "  t_ints = [*range(1,len(t_vals)+1)] # creates a list of integers [1, 2, ...]\n",
        "  df['Time'] = df['YQ'].replace(to_replace=t_vals, value=t_ints)\n",
        "\n",
        "  # Filter only rural areas: rows with NaN for either PCUID, PCNAME, PCTYPE, or PCCLASS\n",
        "  cond = (df['PCUID'].isna()) | (df['PCNAME'].isna()) | (df['PCTYPE'].isna()) | (df['PCCLASS'].isna())\n",
        "  df_rural = df[cond]\n",
        "  data = dataAggregation(df,groups,conn_type)\n",
        "  maxTime = data['Time'].max()\n",
        "  data_train = data[data['Time'] < maxTime]\n",
        "  data_test = data[data['Time'] == maxTime]\n",
        "  return data_train, data_test\n",
        "\n",
        "\n",
        "def dataAggregation(df, aggregate_by, conType):\n",
        "    \"\"\" Aggregate data by tile, dissemination area, census division or province \"\"\"\n",
        "    '''\n",
        "    df: orginal data in pd.DataFrame\n",
        "    aggregate_by: 'quadkey' or 'DAUID' or 'CDNAME' or \"PRNAME\"\n",
        "    conType: boolen, has the option to seperate connect type (e.g. fixed or mobile)\n",
        "    '''\n",
        "\n",
        "    # Weighted average of 'avg_d_mbps', 'avg_u_mbps' and 'avg_lat_ms', weight = 'tests'\n",
        "    wm = lambda x: np.average(x, weights=df.loc[x.index, 'tests'])\n",
        "\n",
        "    if conType:\n",
        "      dat = df.groupby([aggregate_by,'Time','conn_type'],as_index=False).agg({\"avg_u_mbps\":wm,\n",
        "                                                                              \"avg_d_mbps\":wm,\n",
        "                                                                              \"avg_lat_ms\":wm,\n",
        "                                                                              \"tests\":\"sum\"})\n",
        "    else: \n",
        "      dat = df.groupby([aggregate_by,'Time'],as_index=False).agg({\"avg_u_mbps\":wm,\n",
        "                                                                  \"avg_d_mbps\":wm,\n",
        "                                                                  \"avg_lat_ms\":wm,\n",
        "                                                                  \"tests\":\"sum\"})\n",
        "\n",
        "    return dat"
      ]
    },
    {
      "cell_type": "code",
      "source": [
        "os.chdir('/content/drive/MyDrive/2022 SSC Case Study/dataset/')\n",
        "with open('./cd-w-avg-with-dist.p', 'rb') as file:\n",
        "  df = pickle.load(file)"
      ],
      "metadata": {
        "id": "APm-_538B7v0"
      },
      "execution_count": 11,
      "outputs": []
    },
    {
      "cell_type": "code",
      "source": [
        "t_vals = sorted(df['time'].unique()) # sorts year-quarter values\n",
        "t_ints = [*range(1,len(t_vals)+1)] # creates a list of integers [1, 2, ...]\n",
        "df['Time'] = df['time'].replace(to_replace=t_vals, value=t_ints)\n",
        "\n",
        "maxTime = df['Time'].max()\n",
        "data_train = df[df['Time'] < maxTime] # all the observations except the last one are training set\n",
        "data_test = df[df['Time'] == maxTime] # the last obseravtion is test set\n",
        "data_train"
      ],
      "metadata": {
        "colab": {
          "base_uri": "https://localhost:8080/",
          "height": 424
        },
        "id": "eRt284NNB_0v",
        "outputId": "f226efe3-7216-42e9-8fff-7fa033d9f62b"
      },
      "execution_count": 49,
      "outputs": [
        {
          "output_type": "execute_result",
          "data": {
            "text/plain": [
              "   PRUID   CDUID  avg_lat_ms    distance   SACTYPE       DA_POP  devices  \\\n",
              "0     61  6101.0   36.755102    6.425546  8.000000   448.265306     19.0   \n",
              "1     61  6102.0   28.585366  444.526332  8.000000   747.073171     16.0   \n",
              "2     61  6103.0  324.200000  104.673055  8.000000   330.000000      3.0   \n",
              "3     61  6104.0   24.850000  306.145252  8.000000   739.250000     15.0   \n",
              "4     61  6106.0   29.559838    9.110629  3.212982   630.091278    240.0   \n",
              "..   ...     ...         ...         ...       ...          ...      ...   \n",
              "0     62  6204.0   43.071429    0.009375  8.000000  2559.821429     14.0   \n",
              "0     62  6204.0   37.244898    0.058935  8.000000  2660.102041     26.0   \n",
              "0     62  6204.0   22.880000    0.183896  8.000000  2436.100000     17.0   \n",
              "0     62  6204.0   10.702128    0.068872  8.000000  2819.042553     44.0   \n",
              "0     62  6204.0   21.080000    0.031496  8.000000  2421.600000     22.0   \n",
              "\n",
              "    tests                                           geometry conn_type  \\\n",
              "0    49.0  MULTIPOLYGON (((4642490.038 4066985.206, 46426...     fixed   \n",
              "1    41.0  MULTIPOLYGON (((4695765.369 3628102.680, 46958...     fixed   \n",
              "2     5.0  MULTIPOLYGON (((5032382.179 3158440.088, 50322...     fixed   \n",
              "3    40.0  MULTIPOLYGON (((4567677.409 3073390.226, 45678...     fixed   \n",
              "4   493.0  MULTIPOLYGON (((5094536.880 3094447.671, 50944...     fixed   \n",
              "..    ...                                                ...       ...   \n",
              "0    28.0  MULTIPOLYGON (((7292387.428 3241679.826, 72921...    mobile   \n",
              "0    49.0  MULTIPOLYGON (((7292821.313 3241284.005, 72925...     fixed   \n",
              "0    50.0  MULTIPOLYGON (((7292821.313 3241284.005, 72927...    mobile   \n",
              "0    94.0  MULTIPOLYGON (((7291442.712 3240472.949, 72916...     fixed   \n",
              "0    50.0  MULTIPOLYGON (((7292236.227 3241340.404, 72919...    mobile   \n",
              "\n",
              "       time  avg_d_mbps  avg_u_mbps  Time  \n",
              "0   2019-Q1   14.574776    5.991551     1  \n",
              "1   2019-Q1   26.693902    3.160341     1  \n",
              "2   2019-Q1   11.964200    0.841000     1  \n",
              "3   2019-Q1    9.468550    1.158050     1  \n",
              "4   2019-Q1   52.260937    7.403355     1  \n",
              "..      ...         ...         ...   ...  \n",
              "0   2021-Q1   44.356071   10.217607     9  \n",
              "0   2021-Q2   12.798102    1.576551    10  \n",
              "0   2021-Q2   32.714600    7.122600    10  \n",
              "0   2021-Q3   12.543915    2.334309    11  \n",
              "0   2021-Q3   55.927760   14.139660    11  \n",
              "\n",
              "[6369 rows x 14 columns]"
            ],
            "text/html": [
              "\n",
              "  <div id=\"df-8d099ed1-14ff-4ba1-b21b-2411468cccbe\">\n",
              "    <div class=\"colab-df-container\">\n",
              "      <div>\n",
              "<style scoped>\n",
              "    .dataframe tbody tr th:only-of-type {\n",
              "        vertical-align: middle;\n",
              "    }\n",
              "\n",
              "    .dataframe tbody tr th {\n",
              "        vertical-align: top;\n",
              "    }\n",
              "\n",
              "    .dataframe thead th {\n",
              "        text-align: right;\n",
              "    }\n",
              "</style>\n",
              "<table border=\"1\" class=\"dataframe\">\n",
              "  <thead>\n",
              "    <tr style=\"text-align: right;\">\n",
              "      <th></th>\n",
              "      <th>PRUID</th>\n",
              "      <th>CDUID</th>\n",
              "      <th>avg_lat_ms</th>\n",
              "      <th>distance</th>\n",
              "      <th>SACTYPE</th>\n",
              "      <th>DA_POP</th>\n",
              "      <th>devices</th>\n",
              "      <th>tests</th>\n",
              "      <th>geometry</th>\n",
              "      <th>conn_type</th>\n",
              "      <th>time</th>\n",
              "      <th>avg_d_mbps</th>\n",
              "      <th>avg_u_mbps</th>\n",
              "      <th>Time</th>\n",
              "    </tr>\n",
              "  </thead>\n",
              "  <tbody>\n",
              "    <tr>\n",
              "      <th>0</th>\n",
              "      <td>61</td>\n",
              "      <td>6101.0</td>\n",
              "      <td>36.755102</td>\n",
              "      <td>6.425546</td>\n",
              "      <td>8.000000</td>\n",
              "      <td>448.265306</td>\n",
              "      <td>19.0</td>\n",
              "      <td>49.0</td>\n",
              "      <td>MULTIPOLYGON (((4642490.038 4066985.206, 46426...</td>\n",
              "      <td>fixed</td>\n",
              "      <td>2019-Q1</td>\n",
              "      <td>14.574776</td>\n",
              "      <td>5.991551</td>\n",
              "      <td>1</td>\n",
              "    </tr>\n",
              "    <tr>\n",
              "      <th>1</th>\n",
              "      <td>61</td>\n",
              "      <td>6102.0</td>\n",
              "      <td>28.585366</td>\n",
              "      <td>444.526332</td>\n",
              "      <td>8.000000</td>\n",
              "      <td>747.073171</td>\n",
              "      <td>16.0</td>\n",
              "      <td>41.0</td>\n",
              "      <td>MULTIPOLYGON (((4695765.369 3628102.680, 46958...</td>\n",
              "      <td>fixed</td>\n",
              "      <td>2019-Q1</td>\n",
              "      <td>26.693902</td>\n",
              "      <td>3.160341</td>\n",
              "      <td>1</td>\n",
              "    </tr>\n",
              "    <tr>\n",
              "      <th>2</th>\n",
              "      <td>61</td>\n",
              "      <td>6103.0</td>\n",
              "      <td>324.200000</td>\n",
              "      <td>104.673055</td>\n",
              "      <td>8.000000</td>\n",
              "      <td>330.000000</td>\n",
              "      <td>3.0</td>\n",
              "      <td>5.0</td>\n",
              "      <td>MULTIPOLYGON (((5032382.179 3158440.088, 50322...</td>\n",
              "      <td>fixed</td>\n",
              "      <td>2019-Q1</td>\n",
              "      <td>11.964200</td>\n",
              "      <td>0.841000</td>\n",
              "      <td>1</td>\n",
              "    </tr>\n",
              "    <tr>\n",
              "      <th>3</th>\n",
              "      <td>61</td>\n",
              "      <td>6104.0</td>\n",
              "      <td>24.850000</td>\n",
              "      <td>306.145252</td>\n",
              "      <td>8.000000</td>\n",
              "      <td>739.250000</td>\n",
              "      <td>15.0</td>\n",
              "      <td>40.0</td>\n",
              "      <td>MULTIPOLYGON (((4567677.409 3073390.226, 45678...</td>\n",
              "      <td>fixed</td>\n",
              "      <td>2019-Q1</td>\n",
              "      <td>9.468550</td>\n",
              "      <td>1.158050</td>\n",
              "      <td>1</td>\n",
              "    </tr>\n",
              "    <tr>\n",
              "      <th>4</th>\n",
              "      <td>61</td>\n",
              "      <td>6106.0</td>\n",
              "      <td>29.559838</td>\n",
              "      <td>9.110629</td>\n",
              "      <td>3.212982</td>\n",
              "      <td>630.091278</td>\n",
              "      <td>240.0</td>\n",
              "      <td>493.0</td>\n",
              "      <td>MULTIPOLYGON (((5094536.880 3094447.671, 50944...</td>\n",
              "      <td>fixed</td>\n",
              "      <td>2019-Q1</td>\n",
              "      <td>52.260937</td>\n",
              "      <td>7.403355</td>\n",
              "      <td>1</td>\n",
              "    </tr>\n",
              "    <tr>\n",
              "      <th>...</th>\n",
              "      <td>...</td>\n",
              "      <td>...</td>\n",
              "      <td>...</td>\n",
              "      <td>...</td>\n",
              "      <td>...</td>\n",
              "      <td>...</td>\n",
              "      <td>...</td>\n",
              "      <td>...</td>\n",
              "      <td>...</td>\n",
              "      <td>...</td>\n",
              "      <td>...</td>\n",
              "      <td>...</td>\n",
              "      <td>...</td>\n",
              "      <td>...</td>\n",
              "    </tr>\n",
              "    <tr>\n",
              "      <th>0</th>\n",
              "      <td>62</td>\n",
              "      <td>6204.0</td>\n",
              "      <td>43.071429</td>\n",
              "      <td>0.009375</td>\n",
              "      <td>8.000000</td>\n",
              "      <td>2559.821429</td>\n",
              "      <td>14.0</td>\n",
              "      <td>28.0</td>\n",
              "      <td>MULTIPOLYGON (((7292387.428 3241679.826, 72921...</td>\n",
              "      <td>mobile</td>\n",
              "      <td>2021-Q1</td>\n",
              "      <td>44.356071</td>\n",
              "      <td>10.217607</td>\n",
              "      <td>9</td>\n",
              "    </tr>\n",
              "    <tr>\n",
              "      <th>0</th>\n",
              "      <td>62</td>\n",
              "      <td>6204.0</td>\n",
              "      <td>37.244898</td>\n",
              "      <td>0.058935</td>\n",
              "      <td>8.000000</td>\n",
              "      <td>2660.102041</td>\n",
              "      <td>26.0</td>\n",
              "      <td>49.0</td>\n",
              "      <td>MULTIPOLYGON (((7292821.313 3241284.005, 72925...</td>\n",
              "      <td>fixed</td>\n",
              "      <td>2021-Q2</td>\n",
              "      <td>12.798102</td>\n",
              "      <td>1.576551</td>\n",
              "      <td>10</td>\n",
              "    </tr>\n",
              "    <tr>\n",
              "      <th>0</th>\n",
              "      <td>62</td>\n",
              "      <td>6204.0</td>\n",
              "      <td>22.880000</td>\n",
              "      <td>0.183896</td>\n",
              "      <td>8.000000</td>\n",
              "      <td>2436.100000</td>\n",
              "      <td>17.0</td>\n",
              "      <td>50.0</td>\n",
              "      <td>MULTIPOLYGON (((7292821.313 3241284.005, 72927...</td>\n",
              "      <td>mobile</td>\n",
              "      <td>2021-Q2</td>\n",
              "      <td>32.714600</td>\n",
              "      <td>7.122600</td>\n",
              "      <td>10</td>\n",
              "    </tr>\n",
              "    <tr>\n",
              "      <th>0</th>\n",
              "      <td>62</td>\n",
              "      <td>6204.0</td>\n",
              "      <td>10.702128</td>\n",
              "      <td>0.068872</td>\n",
              "      <td>8.000000</td>\n",
              "      <td>2819.042553</td>\n",
              "      <td>44.0</td>\n",
              "      <td>94.0</td>\n",
              "      <td>MULTIPOLYGON (((7291442.712 3240472.949, 72916...</td>\n",
              "      <td>fixed</td>\n",
              "      <td>2021-Q3</td>\n",
              "      <td>12.543915</td>\n",
              "      <td>2.334309</td>\n",
              "      <td>11</td>\n",
              "    </tr>\n",
              "    <tr>\n",
              "      <th>0</th>\n",
              "      <td>62</td>\n",
              "      <td>6204.0</td>\n",
              "      <td>21.080000</td>\n",
              "      <td>0.031496</td>\n",
              "      <td>8.000000</td>\n",
              "      <td>2421.600000</td>\n",
              "      <td>22.0</td>\n",
              "      <td>50.0</td>\n",
              "      <td>MULTIPOLYGON (((7292236.227 3241340.404, 72919...</td>\n",
              "      <td>mobile</td>\n",
              "      <td>2021-Q3</td>\n",
              "      <td>55.927760</td>\n",
              "      <td>14.139660</td>\n",
              "      <td>11</td>\n",
              "    </tr>\n",
              "  </tbody>\n",
              "</table>\n",
              "<p>6369 rows × 14 columns</p>\n",
              "</div>\n",
              "      <button class=\"colab-df-convert\" onclick=\"convertToInteractive('df-8d099ed1-14ff-4ba1-b21b-2411468cccbe')\"\n",
              "              title=\"Convert this dataframe to an interactive table.\"\n",
              "              style=\"display:none;\">\n",
              "        \n",
              "  <svg xmlns=\"http://www.w3.org/2000/svg\" height=\"24px\"viewBox=\"0 0 24 24\"\n",
              "       width=\"24px\">\n",
              "    <path d=\"M0 0h24v24H0V0z\" fill=\"none\"/>\n",
              "    <path d=\"M18.56 5.44l.94 2.06.94-2.06 2.06-.94-2.06-.94-.94-2.06-.94 2.06-2.06.94zm-11 1L8.5 8.5l.94-2.06 2.06-.94-2.06-.94L8.5 2.5l-.94 2.06-2.06.94zm10 10l.94 2.06.94-2.06 2.06-.94-2.06-.94-.94-2.06-.94 2.06-2.06.94z\"/><path d=\"M17.41 7.96l-1.37-1.37c-.4-.4-.92-.59-1.43-.59-.52 0-1.04.2-1.43.59L10.3 9.45l-7.72 7.72c-.78.78-.78 2.05 0 2.83L4 21.41c.39.39.9.59 1.41.59.51 0 1.02-.2 1.41-.59l7.78-7.78 2.81-2.81c.8-.78.8-2.07 0-2.86zM5.41 20L4 18.59l7.72-7.72 1.47 1.35L5.41 20z\"/>\n",
              "  </svg>\n",
              "      </button>\n",
              "      \n",
              "  <style>\n",
              "    .colab-df-container {\n",
              "      display:flex;\n",
              "      flex-wrap:wrap;\n",
              "      gap: 12px;\n",
              "    }\n",
              "\n",
              "    .colab-df-convert {\n",
              "      background-color: #E8F0FE;\n",
              "      border: none;\n",
              "      border-radius: 50%;\n",
              "      cursor: pointer;\n",
              "      display: none;\n",
              "      fill: #1967D2;\n",
              "      height: 32px;\n",
              "      padding: 0 0 0 0;\n",
              "      width: 32px;\n",
              "    }\n",
              "\n",
              "    .colab-df-convert:hover {\n",
              "      background-color: #E2EBFA;\n",
              "      box-shadow: 0px 1px 2px rgba(60, 64, 67, 0.3), 0px 1px 3px 1px rgba(60, 64, 67, 0.15);\n",
              "      fill: #174EA6;\n",
              "    }\n",
              "\n",
              "    [theme=dark] .colab-df-convert {\n",
              "      background-color: #3B4455;\n",
              "      fill: #D2E3FC;\n",
              "    }\n",
              "\n",
              "    [theme=dark] .colab-df-convert:hover {\n",
              "      background-color: #434B5C;\n",
              "      box-shadow: 0px 1px 3px 1px rgba(0, 0, 0, 0.15);\n",
              "      filter: drop-shadow(0px 1px 2px rgba(0, 0, 0, 0.3));\n",
              "      fill: #FFFFFF;\n",
              "    }\n",
              "  </style>\n",
              "\n",
              "      <script>\n",
              "        const buttonEl =\n",
              "          document.querySelector('#df-8d099ed1-14ff-4ba1-b21b-2411468cccbe button.colab-df-convert');\n",
              "        buttonEl.style.display =\n",
              "          google.colab.kernel.accessAllowed ? 'block' : 'none';\n",
              "\n",
              "        async function convertToInteractive(key) {\n",
              "          const element = document.querySelector('#df-8d099ed1-14ff-4ba1-b21b-2411468cccbe');\n",
              "          const dataTable =\n",
              "            await google.colab.kernel.invokeFunction('convertToInteractive',\n",
              "                                                     [key], {});\n",
              "          if (!dataTable) return;\n",
              "\n",
              "          const docLinkHtml = 'Like what you see? Visit the ' +\n",
              "            '<a target=\"_blank\" href=https://colab.research.google.com/notebooks/data_table.ipynb>data table notebook</a>'\n",
              "            + ' to learn more about interactive tables.';\n",
              "          element.innerHTML = '';\n",
              "          dataTable['output_type'] = 'display_data';\n",
              "          await google.colab.output.renderOutput(dataTable, element);\n",
              "          const docLink = document.createElement('div');\n",
              "          docLink.innerHTML = docLinkHtml;\n",
              "          element.appendChild(docLink);\n",
              "        }\n",
              "      </script>\n",
              "    </div>\n",
              "  </div>\n",
              "  "
            ]
          },
          "metadata": {},
          "execution_count": 49
        }
      ]
    },
    {
      "cell_type": "markdown",
      "source": [
        "Response: avg_u_mbps \\\\\n",
        "Fixed effect: Time + conn_type + devices + DA_POP + SACTYPE \\\\\n",
        "Randome effect: CDUID\n",
        "\n"
      ],
      "metadata": {
        "id": "exB_xkA27o5a"
      }
    },
    {
      "cell_type": "code",
      "source": [
        "result = mixedEffctModel(data_train, 'avg_u_mbps ~ Time + conn_type + devices + DA_POP + SACTYPE', 'CDUID')\n",
        "makePrediction(data_test['avg_u_mbps'], result, 'CDUID')"
      ],
      "metadata": {
        "colab": {
          "base_uri": "https://localhost:8080/"
        },
        "id": "EprW45Uw3h8V",
        "outputId": "90d7de24-7842-4d37-a789-a8e032eed38a"
      },
      "execution_count": 73,
      "outputs": [
        {
          "output_type": "stream",
          "name": "stdout",
          "text": [
            "              Mixed Linear Model Regression Results\n",
            "==================================================================\n",
            "Model:               MixedLM    Dependent Variable:    avg_u_mbps \n",
            "No. Observations:    6369       Method:                REML       \n",
            "No. Groups:          293        Scale:                 175.7075   \n",
            "Min. group size:     2          Likelihood:            -25903.2450\n",
            "Max. group size:     22         Converged:             Yes        \n",
            "Mean group size:     21.7                                         \n",
            "------------------------------------------------------------------\n",
            "                     Coef.  Std.Err.    z    P>|z|  [0.025  0.975]\n",
            "------------------------------------------------------------------\n",
            "Intercept            33.315    1.989  16.748 0.000  29.417  37.214\n",
            "conn_type[T.mobile] -19.112    0.355 -53.801 0.000 -19.808 -18.416\n",
            "Time                  1.055    0.053  20.055 0.000   0.952   1.158\n",
            "devices               0.000    0.000   5.667 0.000   0.000   0.000\n",
            "DA_POP                0.002    0.001   1.291 0.197  -0.001   0.004\n",
            "SACTYPE              -2.574    0.352  -7.305 0.000  -3.265  -1.883\n",
            "Group Var           110.268    0.761                              \n",
            "==================================================================\n",
            "\n",
            "RMSE: 18.823637190209006\n",
            "Accuracy: 0.8687392055267703\n",
            "[[449   1]\n",
            " [ 75  54]]\n",
            "              precision    recall  f1-score   support\n",
            "\n",
            "           0       0.86      1.00      0.92       450\n",
            "           1       0.98      0.42      0.59       129\n",
            "\n",
            "    accuracy                           0.87       579\n",
            "   macro avg       0.92      0.71      0.75       579\n",
            "weighted avg       0.88      0.87      0.85       579\n",
            "\n"
          ]
        }
      ]
    },
    {
      "cell_type": "code",
      "source": [
        "## Take only one CSD (PRUID=48 (Alberta) and conn_type = 'fixed') as an example.\n",
        "ab_data = df[(df['PRUID'] == 48) & (df['conn_type'] == 'fixed')]\n",
        "ab_data2 = ab_data[ab_data['CDUID']==4807].sort_values(by='time')\n",
        "plot_x = ab_data2['time']\n",
        "plot_y = ab_data2['avg_u_mbps']\n",
        "\n",
        "fix_eff_pred = result.predict(exog=ab_data2)\n",
        "ran_eff_pred = []\n",
        "for i in range(ab_data2.shape[0]):\n",
        "    x = ab_data2['CDUID'].iloc[i]\n",
        "    ran_eff_pred.append(result.random_effects[x])\n",
        "pred = fix_eff_pred + np.concatenate(ran_eff_pred)\n",
        "ab_data2['pred'] = pred\n",
        "\n",
        "plt.plot(plot_x, plot_y)\n",
        "plt.plot(ab_data2['time'], ab_data2['pred'])\n",
        "plt.title('Upload speed trend over time for CSD={csd}'.format(csd = 4808))"
      ],
      "metadata": {
        "colab": {
          "base_uri": "https://localhost:8080/",
          "height": 298
        },
        "id": "m9WUsAqB3ntV",
        "outputId": "5a6c78b0-2c29-48df-b6d1-de5474f5fb1d"
      },
      "execution_count": 54,
      "outputs": [
        {
          "output_type": "execute_result",
          "data": {
            "text/plain": [
              "Text(0.5, 1.0, 'Upload speed trend over time for CSD=4808')"
            ]
          },
          "metadata": {},
          "execution_count": 54
        },
        {
          "output_type": "display_data",
          "data": {
            "text/plain": [
              "<Figure size 432x288 with 1 Axes>"
            ],
            "image/png": "[encoded data removed]"
          },
          "metadata": {
            "needs_background": "light"
          }
        }
      ]
    },
    {
      "cell_type": "markdown",
      "source": [
        "Response: avg_d_mbps \\\\\n",
        "Fixed effect: Time + conn_type + devices + DA_POP + SACTYPE \\\\\n",
        "Randome effect: CDUID"
      ],
      "metadata": {
        "id": "FerDZNNs8R56"
      }
    },
    {
      "cell_type": "code",
      "source": [
        "result = mixedEffctModel(data_train, 'avg_d_mbps ~ Time + conn_type + devices + DA_POP + SACTYPE', 'CDUID')\n",
        "makePrediction(data_test['avg_d_mbps'], result, 'CDUID')"
      ],
      "metadata": {
        "colab": {
          "base_uri": "https://localhost:8080/"
        },
        "id": "QOP7vFyf8QVt",
        "outputId": "b64cfa27-8ff5-4c83-e8c0-98106208d4a9"
      },
      "execution_count": 69,
      "outputs": [
        {
          "output_type": "stream",
          "name": "stdout",
          "text": [
            "              Mixed Linear Model Regression Results\n",
            "==================================================================\n",
            "Model:               MixedLM    Dependent Variable:    avg_d_mbps \n",
            "No. Observations:    6369       Method:                REML       \n",
            "No. Groups:          293        Scale:                 448.1702   \n",
            "Min. group size:     2          Likelihood:            -28914.1409\n",
            "Max. group size:     22         Converged:             Yes        \n",
            "Mean group size:     21.7                                         \n",
            "------------------------------------------------------------------\n",
            "                     Coef.  Std.Err.    z    P>|z|  [0.025  0.975]\n",
            "------------------------------------------------------------------\n",
            "Intercept            82.033    3.364  24.386 0.000  75.440  88.626\n",
            "conn_type[T.mobile] -14.233    0.569 -25.025 0.000 -15.348 -13.118\n",
            "Time                  3.493    0.084  41.576 0.000   3.329   3.658\n",
            "devices               0.000    0.000   6.390 0.000   0.000   0.001\n",
            "DA_POP                0.008    0.002   4.320 0.000   0.005   0.012\n",
            "SACTYPE              -9.241    0.608 -15.199 0.000 -10.433  -8.049\n",
            "Group Var           355.428    1.512                              \n",
            "==================================================================\n",
            "\n",
            "RMSE: 31.405103305829797\n",
            "Accuracy: 0.8756476683937824\n",
            "[[ 36  61]\n",
            " [ 11 471]]\n",
            "              precision    recall  f1-score   support\n",
            "\n",
            "           0       0.77      0.37      0.50        97\n",
            "           1       0.89      0.98      0.93       482\n",
            "\n",
            "    accuracy                           0.88       579\n",
            "   macro avg       0.83      0.67      0.71       579\n",
            "weighted avg       0.87      0.88      0.86       579\n",
            "\n"
          ]
        }
      ]
    },
    {
      "cell_type": "code",
      "source": [
        "## Take only one CSD (PRUID=48 (Alberta) and conn_type = 'fixed') as an example.\n",
        "ab_data = df[(df['PRUID'] == 48) & (df['conn_type'] == 'fixed')]\n",
        "ab_data2 = ab_data[ab_data['CDUID']==4807].sort_values(by='time')\n",
        "plot_x = ab_data2['time']\n",
        "plot_y = ab_data2['avg_d_mbps']\n",
        "\n",
        "fix_eff_pred = result.predict(exog=ab_data2)\n",
        "ran_eff_pred = []\n",
        "for i in range(ab_data2.shape[0]):\n",
        "    x = ab_data2['CDUID'].iloc[i]\n",
        "    ran_eff_pred.append(result.random_effects[x])\n",
        "pred = fix_eff_pred + np.concatenate(ran_eff_pred)\n",
        "ab_data2['pred'] = pred\n",
        "\n",
        "plt.plot(plot_x, plot_y)\n",
        "plt.plot(ab_data2['time'], ab_data2['pred'])\n",
        "plt.title('Download speed trend over time for CSD={csd}'.format(csd = 4808))"
      ],
      "metadata": {
        "colab": {
          "base_uri": "https://localhost:8080/",
          "height": 298
        },
        "id": "LHm3cvqg8WQJ",
        "outputId": "06c21cea-9dee-448c-f763-bffbc4d99bac"
      },
      "execution_count": 56,
      "outputs": [
        {
          "output_type": "execute_result",
          "data": {
            "text/plain": [
              "Text(0.5, 1.0, 'Download speed trend over time for CSD=4808')"
            ]
          },
          "metadata": {},
          "execution_count": 56
        },
        {
          "output_type": "display_data",
          "data": {
            "text/plain": [
              "<Figure size 432x288 with 1 Axes>"
            ],
            "image/png": "[encoded data removed]"
          },
          "metadata": {
            "needs_background": "light"
          }
        }
      ]
    },
    {
      "cell_type": "markdown",
      "source": [
        "Response: avg_lat_ms \\\\\n",
        "Fixed effect: Time + conn_type + devices + DA_POP + SACTYPE \\\\\n",
        "Randome effect: CDUID"
      ],
      "metadata": {
        "id": "WxlsIHPu8nX0"
      }
    },
    {
      "cell_type": "code",
      "source": [
        "result = mixedEffctModel(data_train, 'avg_lat_ms ~ Time + conn_type + devices + DA_POP + SACTYPE', 'CDUID')\n",
        "makePrediction(data_test['avg_lat_ms'], result, 'CDUID')"
      ],
      "metadata": {
        "colab": {
          "base_uri": "https://localhost:8080/"
        },
        "id": "hlPBAiP78i4E",
        "outputId": "daecb064-3491-4945-c07a-e1c37a22df2e"
      },
      "execution_count": 77,
      "outputs": [
        {
          "output_type": "stream",
          "name": "stdout",
          "text": [
            "             Mixed Linear Model Regression Results\n",
            "================================================================\n",
            "Model:               MixedLM   Dependent Variable:   avg_lat_ms \n",
            "No. Observations:    6369      Method:               REML       \n",
            "No. Groups:          293       Scale:                543.5656   \n",
            "Min. group size:     2         Likelihood:           -29533.6937\n",
            "Max. group size:     22        Converged:            Yes        \n",
            "Mean group size:     21.7                                       \n",
            "----------------------------------------------------------------\n",
            "                     Coef.  Std.Err.    z    P>|z| [0.025 0.975]\n",
            "----------------------------------------------------------------\n",
            "Intercept            35.576    3.742   9.507 0.000 28.242 42.911\n",
            "conn_type[T.mobile]   2.834    0.626   4.524 0.000  1.607  4.062\n",
            "Time                 -1.180    0.093 -12.753 0.000 -1.361 -0.999\n",
            "devices              -0.000    0.000  -5.735 0.000 -0.001 -0.000\n",
            "DA_POP               -0.006    0.002  -2.664 0.008 -0.010 -0.002\n",
            "SACTYPE               5.480    0.679   8.071 0.000  4.149  6.811\n",
            "Group Var           449.001    1.809                            \n",
            "================================================================\n",
            "\n",
            "RMSE: 15.248086053987052\n",
            "Accuracy: 0.8186528497409327\n",
            "[[416  49]\n",
            " [ 56  58]]\n",
            "              precision    recall  f1-score   support\n",
            "\n",
            "           0       0.88      0.89      0.89       465\n",
            "           1       0.54      0.51      0.52       114\n",
            "\n",
            "    accuracy                           0.82       579\n",
            "   macro avg       0.71      0.70      0.71       579\n",
            "weighted avg       0.81      0.82      0.82       579\n",
            "\n"
          ]
        }
      ]
    },
    {
      "cell_type": "code",
      "source": [
        "## Take only one CSD (PRUID=48 (Alberta) and conn_type = 'fixed') as an example.\n",
        "ab_data = df[(df['PRUID'] == 48) & (df['conn_type'] == 'fixed')]\n",
        "ab_data2 = ab_data[ab_data['CDUID']==4807].sort_values(by='time')\n",
        "plot_x = ab_data2['time']\n",
        "plot_y = ab_data2['avg_lat_ms']\n",
        "\n",
        "fix_eff_pred = result.predict(exog=ab_data2)\n",
        "ran_eff_pred = []\n",
        "for i in range(ab_data2.shape[0]):\n",
        "    x = ab_data2['CDUID'].iloc[i]\n",
        "    ran_eff_pred.append(result.random_effects[x])\n",
        "pred = fix_eff_pred + np.concatenate(ran_eff_pred)\n",
        "ab_data2['pred'] = pred\n",
        "\n",
        "plt.plot(plot_x, plot_y)\n",
        "plt.plot(ab_data2['time'], ab_data2['pred'])\n",
        "plt.title('Latency trend over time for CSD={csd}'.format(csd = 4808))"
      ],
      "metadata": {
        "colab": {
          "base_uri": "https://localhost:8080/",
          "height": 298
        },
        "id": "euIEaU918sD5",
        "outputId": "00d9e68b-24b7-4656-9434-cd526851c86e"
      },
      "execution_count": 66,
      "outputs": [
        {
          "output_type": "execute_result",
          "data": {
            "text/plain": [
              "Text(0.5, 1.0, 'Latency trend over time for CSD=4808')"
            ]
          },
          "metadata": {},
          "execution_count": 66
        },
        {
          "output_type": "display_data",
          "data": {
            "text/plain": [
              "<Figure size 432x288 with 1 Axes>"
            ],
            "image/png": "[encoded data removed]"
          },
          "metadata": {
            "needs_background": "light"
          }
        }
      ]
    }
  ],
  "metadata": {
    "colab": {
      "collapsed_sections": [],
      "name": "The mixed effect model.ipynb",
      "provenance": [],
      "authorship_tag": "ABX9TyOSL8cc2J9BXzXqTROWy80b",
      "include_colab_link": true
    },
    "kernelspec": {
      "display_name": "Python 3",
      "name": "python3"
    },
    "language_info": {
      "name": "python"
    }
  },
  "nbformat": 4,
  "nbformat_minor": 0
}