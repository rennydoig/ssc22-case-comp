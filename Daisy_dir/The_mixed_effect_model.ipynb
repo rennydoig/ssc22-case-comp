{
  "nbformat": 4,
  "nbformat_minor": 0,
  "metadata": {
    "colab": {
      "name": "The mixed effect model.ipynb",
      "provenance": [],
      "collapsed_sections": [],
      "authorship_tag": "ABX9TyMDV1qll0PK1DtLz4KoOWdI",
      "include_colab_link": true
    },
    "kernelspec": {
      "name": "python3",
      "display_name": "Python 3"
    },
    "language_info": {
      "name": "python"
    }
  },
  "cells": [
    {
      "cell_type": "markdown",
      "metadata": {
        "id": "view-in-github",
        "colab_type": "text"
      },
      "source": [
        "<a href=\"https://colab.research.google.com/github/rennydoig/ssc22-case-comp/blob/main/Daisy_dir/The_mixed_effect_model.ipynb\" target=\"_parent\"><img src=\"https://colab.research.google.com/assets/colab-badge.svg\" alt=\"Open In Colab\"/></a>"
      ]
    },
    {
      "cell_type": "code",
      "execution_count": null,
      "metadata": {
        "id": "zPWZk9Dj9dbA"
      },
      "outputs": [],
      "source": [
        "import pandas as pd\n",
        "import numpy as np\n",
        "import os\n",
        "import csv\n",
        "!pip install geopandas rtree\n",
        "import geopandas as gpd\n",
        "from shapely.geometry import Polygon\n",
        "from shapely.ops import unary_union\n",
        "from sklearn.cluster import DBSCAN\n",
        "import matplotlib.pyplot as plt\n",
        "import seaborn as sns\n",
        "from google.colab import drive\n",
        "drive.mount('/content/drive')\n",
        "os.chdir('/content/drive/My Drive/2022 SSC Case Study')\n",
        "print(os.getcwd())"
      ]
    },
    {
      "cell_type": "code",
      "source": [
        "def dataAggregation(df, aggregate_by, conType):\n",
        "    \"\"\" Aggregate data by tile, dissemination area, census division or province \"\"\"\n",
        "    '''\n",
        "    df: orginal data in pd.DataFrame\n",
        "    aggregate_by: 'quadkey' or 'DAUID' or 'CDNAME' or \"PRNAME\"\n",
        "    conType: boolen, has the option to seperate connect type (e.g. fixed or mobile)\n",
        "    '''\n",
        "\n",
        "    # Weighted average of 'avg_d_mbps', 'avg_u_mbps' and 'avg_lat_ms', weight = 'tests'\n",
        "    wm = lambda x: np.average(x, weights=df.loc[x.index, 'tests'])\n",
        "\n",
        "    if conType:\n",
        "      dat = df.groupby([aggregate_by,'Time','conn_type'],as_index=False).agg({\"avg_u_mbps\":wm,\n",
        "                                                                              \"avg_d_mbps\":wm,\n",
        "                                                                              \"avg_lat_ms\":wm,\n",
        "                                                                              \"tests\":\"sum\",\n",
        "                                                                              \"DA_POP\":\"sum\"})\n",
        "    else: \n",
        "      dat = df.groupby([aggregate_by,'Time'],as_index=False).agg({\"avg_u_mbps\":wm,\n",
        "                                                                  \"avg_d_mbps\":wm,\n",
        "                                                                  \"avg_lat_ms\":wm,\n",
        "                                                                  \"tests\":\"sum\",\n",
        "                                                                  \"DA_POP\":\"sum\"})\n",
        "\n",
        "    return dat"
      ],
      "metadata": {
        "id": "mYYB-00__nbs"
      },
      "execution_count": null,
      "outputs": []
    },
    {
      "cell_type": "code",
      "source": [
        "df = pd.read_csv(\"ookla-canada-speed-tiles.csv\")\n",
        "df['avg_d_mbps'] = df['avg_d_kbps'] / 1000\n",
        "df['avg_u_mbps'] = df['avg_u_kbps'] / 1000\n",
        "\n",
        "def getTime(i):\n",
        "  year = i[0]\n",
        "  quarter = i[1]\n",
        "  return year + (int(quarter[1:2])-1/4) - 2019\n",
        "df['Time'] = [getTime(i) for i in zip(df['year'], df['quarter'])]\n",
        "\n",
        "# Filter only rural areas: rows with NaN for either PCUID, PCNAME, PCTYPE, or PCCLASS\n",
        "cond = (df['PCUID'].isna()) | (df['PCNAME'].isna()) | (df['PCTYPE'].isna()) | (df['PCCLASS'].isna())\n",
        "df_rural = df[cond]\n",
        "\n",
        "data = dataAggregation(df_rural,'CDNAME',False)\n",
        "maxTime = data['Time'].max()\n",
        "data_train = data[data['Time'] < maxTime]\n",
        "data_test = data[data['Time'] == maxTime]"
      ],
      "metadata": {
        "id": "DzKhJvFJ_EXy"
      },
      "execution_count": 5,
      "outputs": []
    },
    {
      "cell_type": "markdown",
      "source": [
        "# The mixed effects model\n",
        "\n",
        "The mixed effects model Yij = β0 + β1Tij + Vi + ϵij, where\n",
        "*   Yij: download/upload speed for subject j in cluster i\n",
        "*   Tij: time (fixed effect)\n",
        "*   Vi: cluster-specific random effect such that Vi ~ N(0, Σ)\n",
        "*   ϵij: subject-specific random effect such that eij ~ N(0, σ^2I) "
      ],
      "metadata": {
        "id": "2eFi6507_PN9"
      }
    },
    {
      "cell_type": "code",
      "source": [
        "import statsmodels.api as sm\n",
        "import statsmodels.formula.api as smf\n",
        "from sklearn.linear_model import LinearRegression\n",
        "from sklearn.model_selection import train_test_split\n",
        "from sklearn import metrics\n",
        "from sklearn.metrics import classification_report\n",
        "from sklearn.metrics import accuracy_score"
      ],
      "metadata": {
        "id": "XpZ4087O_Pzw"
      },
      "execution_count": 109,
      "outputs": []
    },
    {
      "cell_type": "markdown",
      "source": [
        "## Mixed effects model with random intercept"
      ],
      "metadata": {
        "id": "9ht82mxO_VZq"
      }
    },
    {
      "cell_type": "code",
      "source": [
        "m1 = smf.mixedlm(\"avg_d_mbps ~ Time\", data_train, groups=data_train[\"CDNAME\"])\n",
        "result = m1.fit(method=[\"lbfgs\"])\n",
        "print(result.summary())\n",
        "\n",
        "# Residual plot\n",
        "performance = pd.DataFrame()\n",
        "performance[\"residuals\"] = result.resid.values\n",
        "performance[\"actual\"] = data_train['avg_d_mbps']\n",
        "performance[\"fitted\"] = result.fittedvalues\n",
        "ax = sns.residplot(x = \"fitted\", y = \"residuals\", data = performance, lowess=True)\n",
        "ax.set(ylabel='residuals')\n",
        "plt.show()\n"
      ],
      "metadata": {
        "colab": {
          "base_uri": "https://localhost:8080/",
          "height": 557
        },
        "id": "-d_q9jD4_XeN",
        "outputId": "321fd53a-57e8-434c-c710-2ac641edb626"
      },
      "execution_count": 260,
      "outputs": [
        {
          "output_type": "stream",
          "name": "stdout",
          "text": [
            "         Mixed Linear Model Regression Results\n",
            "========================================================\n",
            "Model:            MixedLM Dependent Variable: avg_d_mbps\n",
            "No. Observations: 1183    Method:             REML      \n",
            "No. Groups:       238     Scale:              120.5980  \n",
            "Min. group size:  2       Likelihood:         -4942.4158\n",
            "Max. group size:  5       Converged:          Yes       \n",
            "Mean group size:  5.0                                   \n",
            "--------------------------------------------------------\n",
            "              Coef.  Std.Err.   z    P>|z| [0.025 0.975]\n",
            "--------------------------------------------------------\n",
            "Intercept     36.214    2.053 17.641 0.000 32.191 40.238\n",
            "Time           8.486    0.226 37.580 0.000  8.043  8.929\n",
            "Group Var    886.310    8.524                           \n",
            "========================================================\n",
            "\n"
          ]
        },
        {
          "output_type": "display_data",
          "data": {
            "text/plain": [
              "<Figure size 432x288 with 1 Axes>"
            ],
            "image/png": "[encoded data removed]"
          },
          "metadata": {
            "needs_background": "light"
          }
        }
      ]
    },
    {
      "cell_type": "code",
      "source": [
        "# The prediction purely on fixed effects\n",
        "fix_eff_pred = result.predict(exog=data_test)\n",
        "\n",
        "# The prediction on random effects\n",
        "ran_eff_pred = []\n",
        "# The predicted random effects\n",
        "for i in range(data_test.shape[0]):\n",
        "  x = data_test['CDNAME'].iloc[i]\n",
        "  ran_eff_pred.append(result.random_effects[x])\n",
        "\n",
        "# Add the fixed and random effects to get the overall prediction\n",
        "pred = fix_eff_pred + np.concatenate(ran_eff_pred)\n",
        "\n",
        "# Get RMSE\n",
        "true = data_test['avg_d_mbps']\n",
        "print(\"RMSE: {}\".format(np.sqrt(metrics.mean_squared_error(true, pred))))\n",
        "\n",
        "# Get accuracy\n",
        "pred_class = [int(p >= 50) for p in pred]\n",
        "true_class = [int(p >= 50) for p in true]\n",
        "print(\"Accuracy: {}\".format(accuracy_score(true_class, pred_class, normalize=False)/float(len(true_class))))\n",
        "\n",
        "# Get confusion matrix\n",
        "print(metrics.confusion_matrix(true_class, pred_class))\n",
        "\n",
        "# Get classification report\n",
        "print(classification_report(true_class,pred_class))"
      ],
      "metadata": {
        "colab": {
          "base_uri": "https://localhost:8080/"
        },
        "id": "3crcU1eOEzPN",
        "outputId": "3a95fd8a-364b-4828-a454-063ee912221f"
      },
      "execution_count": 261,
      "outputs": [
        {
          "output_type": "stream",
          "name": "stdout",
          "text": [
            "RMSE: 26.079121238371723\n",
            "Accuracy: 0.9322033898305084\n",
            "[[  9   9]\n",
            " [  7 211]]\n",
            "              precision    recall  f1-score   support\n",
            "\n",
            "           0       0.56      0.50      0.53        18\n",
            "           1       0.96      0.97      0.96       218\n",
            "\n",
            "    accuracy                           0.93       236\n",
            "   macro avg       0.76      0.73      0.75       236\n",
            "weighted avg       0.93      0.93      0.93       236\n",
            "\n"
          ]
        }
      ]
    },
    {
      "cell_type": "markdown",
      "source": [
        "## Mixed effects model with random slope and random intercept"
      ],
      "metadata": {
        "id": "RnQ_iVjW_Yzc"
      }
    },
    {
      "cell_type": "code",
      "source": [
        "m2 = smf.mixedlm(\"avg_u_mbps ~ Time\", data_train, groups=data_train[\"CDNAME\"], re_formula=\"~Time\")\n",
        "free = sm.regression.mixed_linear_model.MixedLMParams.from_components(\n",
        "    np.ones(2), np.eye(2)\n",
        ")\n",
        "result = m2.fit(method=[\"lbfgs\"]) \n",
        "print(result.summary())\n",
        "\n",
        "# Residual plot\n",
        "performance = pd.DataFrame()\n",
        "performance[\"residuals\"] = result.resid.values\n",
        "performance[\"actual\"] = data_train['avg_d_mbps']\n",
        "performance[\"fitted\"] = result.fittedvalues\n",
        "ax = sns.residplot(x = \"fitted\", y = \"residuals\", data = performance, lowess=True)\n",
        "ax.set(ylabel='residuals')\n",
        "plt.show()"
      ],
      "metadata": {
        "colab": {
          "base_uri": "https://localhost:8080/",
          "height": 594
        },
        "id": "Bl5p4fni_ajm",
        "outputId": "fd892c0c-ca64-427e-a8ec-653bac07b423"
      },
      "execution_count": 256,
      "outputs": [
        {
          "output_type": "stream",
          "name": "stdout",
          "text": [
            "           Mixed Linear Model Regression Results\n",
            "============================================================\n",
            "Model:              MixedLM  Dependent Variable:  avg_u_mbps\n",
            "No. Observations:   1183     Method:              REML      \n",
            "No. Groups:         238      Scale:               40.4091   \n",
            "Min. group size:    2        Likelihood:          -4444.0186\n",
            "Max. group size:    5        Converged:           Yes       \n",
            "Mean group size:    5.0                                     \n",
            "------------------------------------------------------------\n",
            "                  Coef.  Std.Err.   z    P>|z| [0.025 0.975]\n",
            "------------------------------------------------------------\n",
            "Intercept         16.267    1.036 15.705 0.000 14.237 18.298\n",
            "Time               3.340    0.266 12.536 0.000  2.818  3.862\n",
            "Group Var        216.080    4.261                           \n",
            "Group x Time Cov   9.128    0.671                           \n",
            "Time Var          12.815    0.282                           \n",
            "============================================================\n",
            "\n"
          ]
        },
        {
          "output_type": "display_data",
          "data": {
            "text/plain": [
              "<Figure size 432x288 with 1 Axes>"
            ],
            "image/png": "[encoded data removed]"
          },
          "metadata": {
            "needs_background": "light"
          }
        }
      ]
    },
    {
      "cell_type": "code",
      "source": [
        "# The prediction purely on fixed effects\n",
        "fix_eff_pred = result.predict(exog=data_test)\n",
        "\n",
        "# The prediction on random effects\n",
        "ran_eff_pred = []\n",
        "# The predicted random effects\n",
        "for i in range(data_test.shape[0]):\n",
        "  x = data_test['CDNAME'].iloc[i]\n",
        "  t = data_test['Time'].iloc[i]\n",
        "  p = result.random_effects[x][0]+t*result.random_effects[x][1]\n",
        "  ran_eff_pred.append(p)\n",
        "\n",
        "# Add the fixed and random effects to get the overall prediction\n",
        "pred = fix_eff_pred + ran_eff_pred\n",
        "\n",
        "# Get RMSE\n",
        "true = data_test['avg_d_mbps']\n",
        "print(\"RMSE: {}\".format(np.sqrt(metrics.mean_squared_error(true, pred))))\n",
        "\n",
        "# Get accuracy\n",
        "pred_class = [int(p >= 50) for p in pred]\n",
        "true_class = [int(p >= 50) for p in true]\n",
        "print(\"Accuracy: {}\".format(accuracy_score(true_class, pred_class, normalize=False)/float(len(true_class))))\n",
        "\n",
        "# Get confusion matrix\n",
        "print(metrics.confusion_matrix(true_class, pred_class))\n",
        "\n",
        "# Get classification report\n",
        "print(classification_report(true_class,pred_class))"
      ],
      "metadata": {
        "colab": {
          "base_uri": "https://localhost:8080/"
        },
        "id": "_H9h7sEGbIu5",
        "outputId": "a412e6a7-78c2-4158-dcd8-ba589e0fa5e7"
      },
      "execution_count": 257,
      "outputs": [
        {
          "output_type": "stream",
          "name": "stdout",
          "text": [
            "RMSE: 73.68001855208686\n",
            "Accuracy: 0.3093220338983051\n",
            "[[ 18   0]\n",
            " [163  55]]\n",
            "              precision    recall  f1-score   support\n",
            "\n",
            "           0       0.10      1.00      0.18        18\n",
            "           1       1.00      0.25      0.40       218\n",
            "\n",
            "    accuracy                           0.31       236\n",
            "   macro avg       0.55      0.63      0.29       236\n",
            "weighted avg       0.93      0.31      0.39       236\n",
            "\n"
          ]
        }
      ]
    }
  ]
}