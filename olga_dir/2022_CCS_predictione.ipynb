{
  "nbformat": 4,
  "nbformat_minor": 0,
  "metadata": {
    "colab": {
      "name": "2022_CCS_predictione.ipynb",
      "provenance": [],
      "collapsed_sections": [
        "5kd3gA4LQVa2",
        "71Dq1XHqNEov",
        "k8PU9_NvBeRs",
        "4gnoLmCqDjlL"
      ]
    },
    "kernelspec": {
      "name": "python3",
      "display_name": "Python 3"
    },
    "language_info": {
      "name": "python"
    }
  },
  "cells": [
    {
      "cell_type": "markdown",
      "source": [
        "## Import libraried and read data"
      ],
      "metadata": {
        "id": "5kd3gA4LQVa2"
      }
    },
    {
      "cell_type": "code",
      "execution_count": 1,
      "metadata": {
        "id": "i0JUEwL2tAo9",
        "colab": {
          "base_uri": "https://localhost:8080/"
        },
        "outputId": "ade6ec01-be24-4fab-df35-1b2b2f5ef2db"
      },
      "outputs": [
        {
          "output_type": "stream",
          "name": "stdout",
          "text": [
            "Mounted at /content/gdrive\n"
          ]
        }
      ],
      "source": [
        "import sys\n",
        "from google.colab import drive\n",
        "drive.mount('/content/gdrive')\n",
        "colab_dir = '/content/gdrive/My Drive/Colab_files/2022_CCS_case_study'\n",
        "sys.path.append(colab_dir)"
      ]
    },
    {
      "cell_type": "code",
      "source": [
        "!pip install pmdarima\n",
        "from pmdarima.arima import auto_arima"
      ],
      "metadata": {
        "id": "5q2QDkDzuhV4",
        "colab": {
          "base_uri": "https://localhost:8080/"
        },
        "outputId": "d3fef34e-6930-45c6-b260-cce71ac769e2"
      },
      "execution_count": 2,
      "outputs": [
        {
          "output_type": "stream",
          "name": "stdout",
          "text": [
            "Collecting pmdarima\n",
            "  Downloading pmdarima-1.8.5-cp37-cp37m-manylinux_2_17_x86_64.manylinux2014_x86_64.manylinux_2_24_x86_64.whl (1.4 MB)\n",
            "\u001b[K     |████████████████████████████████| 1.4 MB 4.5 MB/s \n",
            "\u001b[?25hRequirement already satisfied: scikit-learn>=0.22 in /usr/local/lib/python3.7/dist-packages (from pmdarima) (1.0.2)\n",
            "Requirement already satisfied: scipy>=1.3.2 in /usr/local/lib/python3.7/dist-packages (from pmdarima) (1.4.1)\n",
            "Requirement already satisfied: setuptools!=50.0.0,>=38.6.0 in /usr/local/lib/python3.7/dist-packages (from pmdarima) (57.4.0)\n",
            "Requirement already satisfied: Cython!=0.29.18,>=0.29 in /usr/local/lib/python3.7/dist-packages (from pmdarima) (0.29.28)\n",
            "Requirement already satisfied: numpy>=1.19.3 in /usr/local/lib/python3.7/dist-packages (from pmdarima) (1.21.5)\n",
            "Requirement already satisfied: statsmodels!=0.12.0,>=0.11 in /usr/local/lib/python3.7/dist-packages (from pmdarima) (0.13.0)\n",
            "Requirement already satisfied: urllib3 in /usr/local/lib/python3.7/dist-packages (from pmdarima) (1.24.3)\n",
            "Requirement already satisfied: joblib>=0.11 in /usr/local/lib/python3.7/dist-packages (from pmdarima) (1.1.0)\n",
            "Requirement already satisfied: pandas>=0.19 in /usr/local/lib/python3.7/dist-packages (from pmdarima) (1.3.5)\n",
            "Requirement already satisfied: pytz>=2017.3 in /usr/local/lib/python3.7/dist-packages (from pandas>=0.19->pmdarima) (2018.9)\n",
            "Requirement already satisfied: python-dateutil>=2.7.3 in /usr/local/lib/python3.7/dist-packages (from pandas>=0.19->pmdarima) (2.8.2)\n",
            "Requirement already satisfied: six>=1.5 in /usr/local/lib/python3.7/dist-packages (from python-dateutil>=2.7.3->pandas>=0.19->pmdarima) (1.15.0)\n",
            "Requirement already satisfied: threadpoolctl>=2.0.0 in /usr/local/lib/python3.7/dist-packages (from scikit-learn>=0.22->pmdarima) (3.1.0)\n",
            "Requirement already satisfied: patsy>=0.5.2 in /usr/local/lib/python3.7/dist-packages (from statsmodels!=0.12.0,>=0.11->pmdarima) (0.5.2)\n",
            "Installing collected packages: pmdarima\n",
            "Successfully installed pmdarima-1.8.5\n"
          ]
        }
      ]
    },
    {
      "cell_type": "code",
      "source": [
        "%matplotlib inline\n",
        "\n",
        "from datetime import datetime\n",
        "import matplotlib\n",
        "import matplotlib.pyplot as plt\n",
        "from datetime import datetime, timedelta\n",
        "plt.style.use('seaborn')\n",
        "import pandas as pd\n",
        "import numpy as np"
      ],
      "metadata": {
        "id": "Gw5rGyKduW8y"
      },
      "execution_count": 3,
      "outputs": []
    },
    {
      "cell_type": "code",
      "source": [
        "import warnings\n",
        "warnings.filterwarnings('ignore')\n",
        "#!pip install plotly\n",
        "import plotly.express as px\n",
        "import plotly.graph_objects as go\n",
        "from plotly.subplots import make_subplots\n",
        "#from sklearn.model_selection import GridSearchCV\n",
        "#from sklearn.preprocessing import StandardScaler\n",
        "#from sklearn.cluster import KMeans\n",
        "#from sklearn.metrics import silhouette_score,silhouette_samples\n",
        "#from sklearn.linear_model import LinearRegression,Ridge,Lasso\n",
        "#from sklearn.svm import SVR\n",
        "from sklearn.metrics import mean_squared_error,r2_score\n",
        "#import statsmodels.api as sm\n",
        "#from statsmodels.tsa.api import Holt,SimpleExpSmoothing,ExponentialSmoothing\n",
        "from fbprophet import Prophet\n",
        "#from sklearn.preprocessing import PolynomialFeatures\n",
        "#from statsmodels.tsa.stattools import adfuller\n",
        "#!pip install pyramid-arima\n",
        "#from pyramid.arima import auto_arima\n",
        "#std=StandardScaler()"
      ],
      "metadata": {
        "id": "OfzUOnFe8nqI"
      },
      "execution_count": 4,
      "outputs": []
    },
    {
      "cell_type": "code",
      "source": [
        "df = pd.read_csv(colab_dir+'/canada_aggregation_divisions.csv',  index_col=0)\n",
        "df['date'] = pd.to_datetime(df['date'], format='%Y-%m-%d')\n",
        "#df = df.set_index('date')\n",
        "print(df.size)\n",
        "df.head(2)"
      ],
      "metadata": {
        "colab": {
          "base_uri": "https://localhost:8080/",
          "height": 226
        },
        "id": "oFkcF5vpuYWG",
        "outputId": "2625fc43-e172-44a4-a46c-6b1b6d830a7b"
      },
      "execution_count": 5,
      "outputs": [
        {
          "output_type": "stream",
          "name": "stdout",
          "text": [
            "62469\n"
          ]
        },
        {
          "output_type": "execute_result",
          "data": {
            "text/plain": [
              "        date   PRNAME  CDUID conn_type  avg_d_mbps_wt  avg_u_mbps_wt  \\\n",
              "0 2019-01-01  Alberta   4801     fixed      51.526124       8.122863   \n",
              "1 2019-01-01  Alberta   4801    mobile      28.724486       7.500324   \n",
              "\n",
              "   avg_lat_ms  tests    DA_POP  \n",
              "0   41.877760   1268  246025.0  \n",
              "1   41.990991    111   17665.0  "
            ],
            "text/html": [
              "\n",
              "  <div id=\"df-613e8d10-9aa0-42f4-9d42-2e19d44dac80\">\n",
              "    <div class=\"colab-df-container\">\n",
              "      <div>\n",
              "<style scoped>\n",
              "    .dataframe tbody tr th:only-of-type {\n",
              "        vertical-align: middle;\n",
              "    }\n",
              "\n",
              "    .dataframe tbody tr th {\n",
              "        vertical-align: top;\n",
              "    }\n",
              "\n",
              "    .dataframe thead th {\n",
              "        text-align: right;\n",
              "    }\n",
              "</style>\n",
              "<table border=\"1\" class=\"dataframe\">\n",
              "  <thead>\n",
              "    <tr style=\"text-align: right;\">\n",
              "      <th></th>\n",
              "      <th>date</th>\n",
              "      <th>PRNAME</th>\n",
              "      <th>CDUID</th>\n",
              "      <th>conn_type</th>\n",
              "      <th>avg_d_mbps_wt</th>\n",
              "      <th>avg_u_mbps_wt</th>\n",
              "      <th>avg_lat_ms</th>\n",
              "      <th>tests</th>\n",
              "      <th>DA_POP</th>\n",
              "    </tr>\n",
              "  </thead>\n",
              "  <tbody>\n",
              "    <tr>\n",
              "      <th>0</th>\n",
              "      <td>2019-01-01</td>\n",
              "      <td>Alberta</td>\n",
              "      <td>4801</td>\n",
              "      <td>fixed</td>\n",
              "      <td>51.526124</td>\n",
              "      <td>8.122863</td>\n",
              "      <td>41.877760</td>\n",
              "      <td>1268</td>\n",
              "      <td>246025.0</td>\n",
              "    </tr>\n",
              "    <tr>\n",
              "      <th>1</th>\n",
              "      <td>2019-01-01</td>\n",
              "      <td>Alberta</td>\n",
              "      <td>4801</td>\n",
              "      <td>mobile</td>\n",
              "      <td>28.724486</td>\n",
              "      <td>7.500324</td>\n",
              "      <td>41.990991</td>\n",
              "      <td>111</td>\n",
              "      <td>17665.0</td>\n",
              "    </tr>\n",
              "  </tbody>\n",
              "</table>\n",
              "</div>\n",
              "      <button class=\"colab-df-convert\" onclick=\"convertToInteractive('df-613e8d10-9aa0-42f4-9d42-2e19d44dac80')\"\n",
              "              title=\"Convert this dataframe to an interactive table.\"\n",
              "              style=\"display:none;\">\n",
              "        \n",
              "  <svg xmlns=\"http://www.w3.org/2000/svg\" height=\"24px\"viewBox=\"0 0 24 24\"\n",
              "       width=\"24px\">\n",
              "    <path d=\"M0 0h24v24H0V0z\" fill=\"none\"/>\n",
              "    <path d=\"M18.56 5.44l.94 2.06.94-2.06 2.06-.94-2.06-.94-.94-2.06-.94 2.06-2.06.94zm-11 1L8.5 8.5l.94-2.06 2.06-.94-2.06-.94L8.5 2.5l-.94 2.06-2.06.94zm10 10l.94 2.06.94-2.06 2.06-.94-2.06-.94-.94-2.06-.94 2.06-2.06.94z\"/><path d=\"M17.41 7.96l-1.37-1.37c-.4-.4-.92-.59-1.43-.59-.52 0-1.04.2-1.43.59L10.3 9.45l-7.72 7.72c-.78.78-.78 2.05 0 2.83L4 21.41c.39.39.9.59 1.41.59.51 0 1.02-.2 1.41-.59l7.78-7.78 2.81-2.81c.8-.78.8-2.07 0-2.86zM5.41 20L4 18.59l7.72-7.72 1.47 1.35L5.41 20z\"/>\n",
              "  </svg>\n",
              "      </button>\n",
              "      \n",
              "  <style>\n",
              "    .colab-df-container {\n",
              "      display:flex;\n",
              "      flex-wrap:wrap;\n",
              "      gap: 12px;\n",
              "    }\n",
              "\n",
              "    .colab-df-convert {\n",
              "      background-color: #E8F0FE;\n",
              "      border: none;\n",
              "      border-radius: 50%;\n",
              "      cursor: pointer;\n",
              "      display: none;\n",
              "      fill: #1967D2;\n",
              "      height: 32px;\n",
              "      padding: 0 0 0 0;\n",
              "      width: 32px;\n",
              "    }\n",
              "\n",
              "    .colab-df-convert:hover {\n",
              "      background-color: #E2EBFA;\n",
              "      box-shadow: 0px 1px 2px rgba(60, 64, 67, 0.3), 0px 1px 3px 1px rgba(60, 64, 67, 0.15);\n",
              "      fill: #174EA6;\n",
              "    }\n",
              "\n",
              "    [theme=dark] .colab-df-convert {\n",
              "      background-color: #3B4455;\n",
              "      fill: #D2E3FC;\n",
              "    }\n",
              "\n",
              "    [theme=dark] .colab-df-convert:hover {\n",
              "      background-color: #434B5C;\n",
              "      box-shadow: 0px 1px 3px 1px rgba(0, 0, 0, 0.15);\n",
              "      filter: drop-shadow(0px 1px 2px rgba(0, 0, 0, 0.3));\n",
              "      fill: #FFFFFF;\n",
              "    }\n",
              "  </style>\n",
              "\n",
              "      <script>\n",
              "        const buttonEl =\n",
              "          document.querySelector('#df-613e8d10-9aa0-42f4-9d42-2e19d44dac80 button.colab-df-convert');\n",
              "        buttonEl.style.display =\n",
              "          google.colab.kernel.accessAllowed ? 'block' : 'none';\n",
              "\n",
              "        async function convertToInteractive(key) {\n",
              "          const element = document.querySelector('#df-613e8d10-9aa0-42f4-9d42-2e19d44dac80');\n",
              "          const dataTable =\n",
              "            await google.colab.kernel.invokeFunction('convertToInteractive',\n",
              "                                                     [key], {});\n",
              "          if (!dataTable) return;\n",
              "\n",
              "          const docLinkHtml = 'Like what you see? Visit the ' +\n",
              "            '<a target=\"_blank\" href=https://colab.research.google.com/notebooks/data_table.ipynb>data table notebook</a>'\n",
              "            + ' to learn more about interactive tables.';\n",
              "          element.innerHTML = '';\n",
              "          dataTable['output_type'] = 'display_data';\n",
              "          await google.colab.output.renderOutput(dataTable, element);\n",
              "          const docLink = document.createElement('div');\n",
              "          docLink.innerHTML = docLinkHtml;\n",
              "          element.appendChild(docLink);\n",
              "        }\n",
              "      </script>\n",
              "    </div>\n",
              "  </div>\n",
              "  "
            ]
          },
          "metadata": {},
          "execution_count": 5
        }
      ]
    },
    {
      "cell_type": "code",
      "source": [
        "df.describe()"
      ],
      "metadata": {
        "colab": {
          "base_uri": "https://localhost:8080/",
          "height": 361
        },
        "id": "gmKXVjth3yLD",
        "outputId": "22fd780e-a8f0-4e80-b91e-7e189b751dce"
      },
      "execution_count": 6,
      "outputs": [
        {
          "output_type": "execute_result",
          "data": {
            "text/plain": [
              "             CDUID  avg_d_mbps_wt  avg_u_mbps_wt   avg_lat_ms         tests  \\\n",
              "count  6941.000000    6941.000000    6941.000000  6941.000000   6941.000000   \n",
              "mean   3331.826106      55.124235      18.366608    52.554231   1204.322576   \n",
              "std    1503.528828      35.061046      19.768781    33.572339   2230.627052   \n",
              "min    1001.000000       0.264000       0.380833     5.000000      1.000000   \n",
              "25%    2427.000000      28.959806       6.516930    34.688889     64.000000   \n",
              "50%    3501.000000      47.070699      10.956312    46.260870    333.000000   \n",
              "75%    4701.000000      72.982751      21.867103    61.779102   1321.000000   \n",
              "max    6208.000000     235.600000     201.910572   693.000000  26380.000000   \n",
              "\n",
              "             DA_POP  \n",
              "count  6.941000e+03  \n",
              "mean   1.473459e+05  \n",
              "std    2.629336e+05  \n",
              "min    0.000000e+00  \n",
              "25%    1.856000e+04  \n",
              "50%    6.169000e+04  \n",
              "75%    1.617750e+05  \n",
              "max    3.891230e+06  "
            ],
            "text/html": [
              "\n",
              "  <div id=\"df-1437d379-5128-4422-bb56-52fda010ccd3\">\n",
              "    <div class=\"colab-df-container\">\n",
              "      <div>\n",
              "<style scoped>\n",
              "    .dataframe tbody tr th:only-of-type {\n",
              "        vertical-align: middle;\n",
              "    }\n",
              "\n",
              "    .dataframe tbody tr th {\n",
              "        vertical-align: top;\n",
              "    }\n",
              "\n",
              "    .dataframe thead th {\n",
              "        text-align: right;\n",
              "    }\n",
              "</style>\n",
              "<table border=\"1\" class=\"dataframe\">\n",
              "  <thead>\n",
              "    <tr style=\"text-align: right;\">\n",
              "      <th></th>\n",
              "      <th>CDUID</th>\n",
              "      <th>avg_d_mbps_wt</th>\n",
              "      <th>avg_u_mbps_wt</th>\n",
              "      <th>avg_lat_ms</th>\n",
              "      <th>tests</th>\n",
              "      <th>DA_POP</th>\n",
              "    </tr>\n",
              "  </thead>\n",
              "  <tbody>\n",
              "    <tr>\n",
              "      <th>count</th>\n",
              "      <td>6941.000000</td>\n",
              "      <td>6941.000000</td>\n",
              "      <td>6941.000000</td>\n",
              "      <td>6941.000000</td>\n",
              "      <td>6941.000000</td>\n",
              "      <td>6.941000e+03</td>\n",
              "    </tr>\n",
              "    <tr>\n",
              "      <th>mean</th>\n",
              "      <td>3331.826106</td>\n",
              "      <td>55.124235</td>\n",
              "      <td>18.366608</td>\n",
              "      <td>52.554231</td>\n",
              "      <td>1204.322576</td>\n",
              "      <td>1.473459e+05</td>\n",
              "    </tr>\n",
              "    <tr>\n",
              "      <th>std</th>\n",
              "      <td>1503.528828</td>\n",
              "      <td>35.061046</td>\n",
              "      <td>19.768781</td>\n",
              "      <td>33.572339</td>\n",
              "      <td>2230.627052</td>\n",
              "      <td>2.629336e+05</td>\n",
              "    </tr>\n",
              "    <tr>\n",
              "      <th>min</th>\n",
              "      <td>1001.000000</td>\n",
              "      <td>0.264000</td>\n",
              "      <td>0.380833</td>\n",
              "      <td>5.000000</td>\n",
              "      <td>1.000000</td>\n",
              "      <td>0.000000e+00</td>\n",
              "    </tr>\n",
              "    <tr>\n",
              "      <th>25%</th>\n",
              "      <td>2427.000000</td>\n",
              "      <td>28.959806</td>\n",
              "      <td>6.516930</td>\n",
              "      <td>34.688889</td>\n",
              "      <td>64.000000</td>\n",
              "      <td>1.856000e+04</td>\n",
              "    </tr>\n",
              "    <tr>\n",
              "      <th>50%</th>\n",
              "      <td>3501.000000</td>\n",
              "      <td>47.070699</td>\n",
              "      <td>10.956312</td>\n",
              "      <td>46.260870</td>\n",
              "      <td>333.000000</td>\n",
              "      <td>6.169000e+04</td>\n",
              "    </tr>\n",
              "    <tr>\n",
              "      <th>75%</th>\n",
              "      <td>4701.000000</td>\n",
              "      <td>72.982751</td>\n",
              "      <td>21.867103</td>\n",
              "      <td>61.779102</td>\n",
              "      <td>1321.000000</td>\n",
              "      <td>1.617750e+05</td>\n",
              "    </tr>\n",
              "    <tr>\n",
              "      <th>max</th>\n",
              "      <td>6208.000000</td>\n",
              "      <td>235.600000</td>\n",
              "      <td>201.910572</td>\n",
              "      <td>693.000000</td>\n",
              "      <td>26380.000000</td>\n",
              "      <td>3.891230e+06</td>\n",
              "    </tr>\n",
              "  </tbody>\n",
              "</table>\n",
              "</div>\n",
              "      <button class=\"colab-df-convert\" onclick=\"convertToInteractive('df-1437d379-5128-4422-bb56-52fda010ccd3')\"\n",
              "              title=\"Convert this dataframe to an interactive table.\"\n",
              "              style=\"display:none;\">\n",
              "        \n",
              "  <svg xmlns=\"http://www.w3.org/2000/svg\" height=\"24px\"viewBox=\"0 0 24 24\"\n",
              "       width=\"24px\">\n",
              "    <path d=\"M0 0h24v24H0V0z\" fill=\"none\"/>\n",
              "    <path d=\"M18.56 5.44l.94 2.06.94-2.06 2.06-.94-2.06-.94-.94-2.06-.94 2.06-2.06.94zm-11 1L8.5 8.5l.94-2.06 2.06-.94-2.06-.94L8.5 2.5l-.94 2.06-2.06.94zm10 10l.94 2.06.94-2.06 2.06-.94-2.06-.94-.94-2.06-.94 2.06-2.06.94z\"/><path d=\"M17.41 7.96l-1.37-1.37c-.4-.4-.92-.59-1.43-.59-.52 0-1.04.2-1.43.59L10.3 9.45l-7.72 7.72c-.78.78-.78 2.05 0 2.83L4 21.41c.39.39.9.59 1.41.59.51 0 1.02-.2 1.41-.59l7.78-7.78 2.81-2.81c.8-.78.8-2.07 0-2.86zM5.41 20L4 18.59l7.72-7.72 1.47 1.35L5.41 20z\"/>\n",
              "  </svg>\n",
              "      </button>\n",
              "      \n",
              "  <style>\n",
              "    .colab-df-container {\n",
              "      display:flex;\n",
              "      flex-wrap:wrap;\n",
              "      gap: 12px;\n",
              "    }\n",
              "\n",
              "    .colab-df-convert {\n",
              "      background-color: #E8F0FE;\n",
              "      border: none;\n",
              "      border-radius: 50%;\n",
              "      cursor: pointer;\n",
              "      display: none;\n",
              "      fill: #1967D2;\n",
              "      height: 32px;\n",
              "      padding: 0 0 0 0;\n",
              "      width: 32px;\n",
              "    }\n",
              "\n",
              "    .colab-df-convert:hover {\n",
              "      background-color: #E2EBFA;\n",
              "      box-shadow: 0px 1px 2px rgba(60, 64, 67, 0.3), 0px 1px 3px 1px rgba(60, 64, 67, 0.15);\n",
              "      fill: #174EA6;\n",
              "    }\n",
              "\n",
              "    [theme=dark] .colab-df-convert {\n",
              "      background-color: #3B4455;\n",
              "      fill: #D2E3FC;\n",
              "    }\n",
              "\n",
              "    [theme=dark] .colab-df-convert:hover {\n",
              "      background-color: #434B5C;\n",
              "      box-shadow: 0px 1px 3px 1px rgba(0, 0, 0, 0.15);\n",
              "      filter: drop-shadow(0px 1px 2px rgba(0, 0, 0, 0.3));\n",
              "      fill: #FFFFFF;\n",
              "    }\n",
              "  </style>\n",
              "\n",
              "      <script>\n",
              "        const buttonEl =\n",
              "          document.querySelector('#df-1437d379-5128-4422-bb56-52fda010ccd3 button.colab-df-convert');\n",
              "        buttonEl.style.display =\n",
              "          google.colab.kernel.accessAllowed ? 'block' : 'none';\n",
              "\n",
              "        async function convertToInteractive(key) {\n",
              "          const element = document.querySelector('#df-1437d379-5128-4422-bb56-52fda010ccd3');\n",
              "          const dataTable =\n",
              "            await google.colab.kernel.invokeFunction('convertToInteractive',\n",
              "                                                     [key], {});\n",
              "          if (!dataTable) return;\n",
              "\n",
              "          const docLinkHtml = 'Like what you see? Visit the ' +\n",
              "            '<a target=\"_blank\" href=https://colab.research.google.com/notebooks/data_table.ipynb>data table notebook</a>'\n",
              "            + ' to learn more about interactive tables.';\n",
              "          element.innerHTML = '';\n",
              "          dataTable['output_type'] = 'display_data';\n",
              "          await google.colab.output.renderOutput(dataTable, element);\n",
              "          const docLink = document.createElement('div');\n",
              "          docLink.innerHTML = docLinkHtml;\n",
              "          element.appendChild(docLink);\n",
              "        }\n",
              "      </script>\n",
              "    </div>\n",
              "  </div>\n",
              "  "
            ]
          },
          "metadata": {},
          "execution_count": 6
        }
      ]
    },
    {
      "cell_type": "code",
      "source": [
        "def get_stat(in_df, in_group_list):\n",
        "  county_stats = (\n",
        "    in_df.groupby(in_group_list)\n",
        "    .apply(\n",
        "        lambda x: pd.Series(\n",
        "            {\"avg_d_mbps\": np.average(x[\"avg_d_mbps_wt\"], weights=x[\"tests\"]),\n",
        "             \"avg_u_mbps\": np.average(x[\"avg_u_mbps_wt\"], weights=x[\"tests\"]),\n",
        "             \"avg_lat_ms\": np.average(x[\"avg_lat_ms\"], weights=x[\"tests\"])}\n",
        "        )\n",
        "    )\n",
        "    .reset_index()\n",
        "    .merge(\n",
        "        in_df.groupby(in_group_list)\n",
        "        .agg(tests=(\"tests\", \"sum\"), DA_POP=(\"DA_POP\", \"sum\"))\n",
        "        .reset_index(),\n",
        "        on=in_group_list,\n",
        "    )\n",
        "  )\n",
        "  return county_stats\n",
        "\n",
        "tests_stat = get_stat(df, ['date','PRNAME', 'CDUID'])\n",
        "tests_stat.head()"
      ],
      "metadata": {
        "colab": {
          "base_uri": "https://localhost:8080/",
          "height": 353
        },
        "id": "o49iFX7aqtjA",
        "outputId": "362e5b9a-a681-42c4-87c9-8d6f3b16e1bf"
      },
      "execution_count": 7,
      "outputs": [
        {
          "output_type": "execute_result",
          "data": {
            "text/plain": [
              "        date   PRNAME  CDUID  avg_d_mbps  avg_u_mbps  avg_lat_ms  tests  \\\n",
              "0 2019-01-01  Alberta   4801   49.690749    8.072753   41.886875   1379   \n",
              "1 2019-01-01  Alberta   4802   72.662193   23.299422   32.057443   2472   \n",
              "2 2019-01-01  Alberta   4803   35.584714   14.525885   42.413421   1669   \n",
              "3 2019-01-01  Alberta   4804   14.772167    7.301498   66.660714    448   \n",
              "4 2019-01-01  Alberta   4805   25.067375    7.254570   42.145426   2558   \n",
              "\n",
              "     DA_POP  \n",
              "0  263690.0  \n",
              "1  596265.0  \n",
              "2  242090.0  \n",
              "3   50455.0  \n",
              "4  300675.0  "
            ],
            "text/html": [
              "\n",
              "  <div id=\"df-9f1373a0-d37e-45ba-9637-5e1cff52eba5\">\n",
              "    <div class=\"colab-df-container\">\n",
              "      <div>\n",
              "<style scoped>\n",
              "    .dataframe tbody tr th:only-of-type {\n",
              "        vertical-align: middle;\n",
              "    }\n",
              "\n",
              "    .dataframe tbody tr th {\n",
              "        vertical-align: top;\n",
              "    }\n",
              "\n",
              "    .dataframe thead th {\n",
              "        text-align: right;\n",
              "    }\n",
              "</style>\n",
              "<table border=\"1\" class=\"dataframe\">\n",
              "  <thead>\n",
              "    <tr style=\"text-align: right;\">\n",
              "      <th></th>\n",
              "      <th>date</th>\n",
              "      <th>PRNAME</th>\n",
              "      <th>CDUID</th>\n",
              "      <th>avg_d_mbps</th>\n",
              "      <th>avg_u_mbps</th>\n",
              "      <th>avg_lat_ms</th>\n",
              "      <th>tests</th>\n",
              "      <th>DA_POP</th>\n",
              "    </tr>\n",
              "  </thead>\n",
              "  <tbody>\n",
              "    <tr>\n",
              "      <th>0</th>\n",
              "      <td>2019-01-01</td>\n",
              "      <td>Alberta</td>\n",
              "      <td>4801</td>\n",
              "      <td>49.690749</td>\n",
              "      <td>8.072753</td>\n",
              "      <td>41.886875</td>\n",
              "      <td>1379</td>\n",
              "      <td>263690.0</td>\n",
              "    </tr>\n",
              "    <tr>\n",
              "      <th>1</th>\n",
              "      <td>2019-01-01</td>\n",
              "      <td>Alberta</td>\n",
              "      <td>4802</td>\n",
              "      <td>72.662193</td>\n",
              "      <td>23.299422</td>\n",
              "      <td>32.057443</td>\n",
              "      <td>2472</td>\n",
              "      <td>596265.0</td>\n",
              "    </tr>\n",
              "    <tr>\n",
              "      <th>2</th>\n",
              "      <td>2019-01-01</td>\n",
              "      <td>Alberta</td>\n",
              "      <td>4803</td>\n",
              "      <td>35.584714</td>\n",
              "      <td>14.525885</td>\n",
              "      <td>42.413421</td>\n",
              "      <td>1669</td>\n",
              "      <td>242090.0</td>\n",
              "    </tr>\n",
              "    <tr>\n",
              "      <th>3</th>\n",
              "      <td>2019-01-01</td>\n",
              "      <td>Alberta</td>\n",
              "      <td>4804</td>\n",
              "      <td>14.772167</td>\n",
              "      <td>7.301498</td>\n",
              "      <td>66.660714</td>\n",
              "      <td>448</td>\n",
              "      <td>50455.0</td>\n",
              "    </tr>\n",
              "    <tr>\n",
              "      <th>4</th>\n",
              "      <td>2019-01-01</td>\n",
              "      <td>Alberta</td>\n",
              "      <td>4805</td>\n",
              "      <td>25.067375</td>\n",
              "      <td>7.254570</td>\n",
              "      <td>42.145426</td>\n",
              "      <td>2558</td>\n",
              "      <td>300675.0</td>\n",
              "    </tr>\n",
              "  </tbody>\n",
              "</table>\n",
              "</div>\n",
              "      <button class=\"colab-df-convert\" onclick=\"convertToInteractive('df-9f1373a0-d37e-45ba-9637-5e1cff52eba5')\"\n",
              "              title=\"Convert this dataframe to an interactive table.\"\n",
              "              style=\"display:none;\">\n",
              "        \n",
              "  <svg xmlns=\"http://www.w3.org/2000/svg\" height=\"24px\"viewBox=\"0 0 24 24\"\n",
              "       width=\"24px\">\n",
              "    <path d=\"M0 0h24v24H0V0z\" fill=\"none\"/>\n",
              "    <path d=\"M18.56 5.44l.94 2.06.94-2.06 2.06-.94-2.06-.94-.94-2.06-.94 2.06-2.06.94zm-11 1L8.5 8.5l.94-2.06 2.06-.94-2.06-.94L8.5 2.5l-.94 2.06-2.06.94zm10 10l.94 2.06.94-2.06 2.06-.94-2.06-.94-.94-2.06-.94 2.06-2.06.94z\"/><path d=\"M17.41 7.96l-1.37-1.37c-.4-.4-.92-.59-1.43-.59-.52 0-1.04.2-1.43.59L10.3 9.45l-7.72 7.72c-.78.78-.78 2.05 0 2.83L4 21.41c.39.39.9.59 1.41.59.51 0 1.02-.2 1.41-.59l7.78-7.78 2.81-2.81c.8-.78.8-2.07 0-2.86zM5.41 20L4 18.59l7.72-7.72 1.47 1.35L5.41 20z\"/>\n",
              "  </svg>\n",
              "      </button>\n",
              "      \n",
              "  <style>\n",
              "    .colab-df-container {\n",
              "      display:flex;\n",
              "      flex-wrap:wrap;\n",
              "      gap: 12px;\n",
              "    }\n",
              "\n",
              "    .colab-df-convert {\n",
              "      background-color: #E8F0FE;\n",
              "      border: none;\n",
              "      border-radius: 50%;\n",
              "      cursor: pointer;\n",
              "      display: none;\n",
              "      fill: #1967D2;\n",
              "      height: 32px;\n",
              "      padding: 0 0 0 0;\n",
              "      width: 32px;\n",
              "    }\n",
              "\n",
              "    .colab-df-convert:hover {\n",
              "      background-color: #E2EBFA;\n",
              "      box-shadow: 0px 1px 2px rgba(60, 64, 67, 0.3), 0px 1px 3px 1px rgba(60, 64, 67, 0.15);\n",
              "      fill: #174EA6;\n",
              "    }\n",
              "\n",
              "    [theme=dark] .colab-df-convert {\n",
              "      background-color: #3B4455;\n",
              "      fill: #D2E3FC;\n",
              "    }\n",
              "\n",
              "    [theme=dark] .colab-df-convert:hover {\n",
              "      background-color: #434B5C;\n",
              "      box-shadow: 0px 1px 3px 1px rgba(0, 0, 0, 0.15);\n",
              "      filter: drop-shadow(0px 1px 2px rgba(0, 0, 0, 0.3));\n",
              "      fill: #FFFFFF;\n",
              "    }\n",
              "  </style>\n",
              "\n",
              "      <script>\n",
              "        const buttonEl =\n",
              "          document.querySelector('#df-9f1373a0-d37e-45ba-9637-5e1cff52eba5 button.colab-df-convert');\n",
              "        buttonEl.style.display =\n",
              "          google.colab.kernel.accessAllowed ? 'block' : 'none';\n",
              "\n",
              "        async function convertToInteractive(key) {\n",
              "          const element = document.querySelector('#df-9f1373a0-d37e-45ba-9637-5e1cff52eba5');\n",
              "          const dataTable =\n",
              "            await google.colab.kernel.invokeFunction('convertToInteractive',\n",
              "                                                     [key], {});\n",
              "          if (!dataTable) return;\n",
              "\n",
              "          const docLinkHtml = 'Like what you see? Visit the ' +\n",
              "            '<a target=\"_blank\" href=https://colab.research.google.com/notebooks/data_table.ipynb>data table notebook</a>'\n",
              "            + ' to learn more about interactive tables.';\n",
              "          element.innerHTML = '';\n",
              "          dataTable['output_type'] = 'display_data';\n",
              "          await google.colab.output.renderOutput(dataTable, element);\n",
              "          const docLink = document.createElement('div');\n",
              "          docLink.innerHTML = docLinkHtml;\n",
              "          element.appendChild(docLink);\n",
              "        }\n",
              "      </script>\n",
              "    </div>\n",
              "  </div>\n",
              "  "
            ]
          },
          "metadata": {},
          "execution_count": 7
        }
      ]
    },
    {
      "cell_type": "markdown",
      "source": [
        "## Make a prediction for a single Census devision with CDUID=4801"
      ],
      "metadata": {
        "id": "71Dq1XHqNEov"
      }
    },
    {
      "cell_type": "code",
      "source": [
        "df_ftr = tests_stat[tests_stat.CDUID==4801]\n",
        "df_ftr = df_ftr.drop(columns=['PRNAME', 'CDUID'])\n",
        "df_ftr"
      ],
      "metadata": {
        "id": "pUFMN8WdUx6T",
        "colab": {
          "base_uri": "https://localhost:8080/",
          "height": 689
        },
        "outputId": "b881b857-76d1-4e56-b6eb-cf4c6d6e21e0"
      },
      "execution_count": 198,
      "outputs": [
        {
          "output_type": "execute_result",
          "data": {
            "text/plain": [
              "           date  avg_d_mbps  avg_u_mbps  avg_lat_ms  tests    DA_POP\n",
              "0    2019-01-01   49.690749    8.072753   41.886875   1379  263690.0\n",
              "291  2019-04-01   63.245842    8.758141   56.660928   1336  243150.0\n",
              "581  2019-07-01   59.620876    7.540486   56.803340   1078  239865.0\n",
              "871  2019-10-01   63.759430    7.666982   39.650307   1304  266555.0\n",
              "1161 2020-01-01   53.747842    7.077155   39.555630   1483  274445.0\n",
              "1452 2020-04-01   47.353350    7.739009   44.363132   1622  260995.0\n",
              "1743 2020-07-01   59.037238   19.380561   38.209581   1837  300015.0\n",
              "2033 2020-10-01   45.983139   12.187001   45.211782   1341  242955.0\n",
              "2325 2021-01-01   50.058416   11.773874   37.569746   1613  293085.0\n",
              "2616 2021-04-01   82.909560   16.414656   31.818584   1582  304500.0\n",
              "2907 2021-07-01   61.926635   14.190562   39.253244   2081  307935.0\n",
              "3198 2021-10-01   66.359073   16.415049   36.057464   1601  286590.0"
            ],
            "text/html": [
              "\n",
              "  <div id=\"df-00e34e29-e766-4229-a842-da779678592c\">\n",
              "    <div class=\"colab-df-container\">\n",
              "      <div>\n",
              "<style scoped>\n",
              "    .dataframe tbody tr th:only-of-type {\n",
              "        vertical-align: middle;\n",
              "    }\n",
              "\n",
              "    .dataframe tbody tr th {\n",
              "        vertical-align: top;\n",
              "    }\n",
              "\n",
              "    .dataframe thead th {\n",
              "        text-align: right;\n",
              "    }\n",
              "</style>\n",
              "<table border=\"1\" class=\"dataframe\">\n",
              "  <thead>\n",
              "    <tr style=\"text-align: right;\">\n",
              "      <th></th>\n",
              "      <th>date</th>\n",
              "      <th>avg_d_mbps</th>\n",
              "      <th>avg_u_mbps</th>\n",
              "      <th>avg_lat_ms</th>\n",
              "      <th>tests</th>\n",
              "      <th>DA_POP</th>\n",
              "    </tr>\n",
              "  </thead>\n",
              "  <tbody>\n",
              "    <tr>\n",
              "      <th>0</th>\n",
              "      <td>2019-01-01</td>\n",
              "      <td>49.690749</td>\n",
              "      <td>8.072753</td>\n",
              "      <td>41.886875</td>\n",
              "      <td>1379</td>\n",
              "      <td>263690.0</td>\n",
              "    </tr>\n",
              "    <tr>\n",
              "      <th>291</th>\n",
              "      <td>2019-04-01</td>\n",
              "      <td>63.245842</td>\n",
              "      <td>8.758141</td>\n",
              "      <td>56.660928</td>\n",
              "      <td>1336</td>\n",
              "      <td>243150.0</td>\n",
              "    </tr>\n",
              "    <tr>\n",
              "      <th>581</th>\n",
              "      <td>2019-07-01</td>\n",
              "      <td>59.620876</td>\n",
              "      <td>7.540486</td>\n",
              "      <td>56.803340</td>\n",
              "      <td>1078</td>\n",
              "      <td>239865.0</td>\n",
              "    </tr>\n",
              "    <tr>\n",
              "      <th>871</th>\n",
              "      <td>2019-10-01</td>\n",
              "      <td>63.759430</td>\n",
              "      <td>7.666982</td>\n",
              "      <td>39.650307</td>\n",
              "      <td>1304</td>\n",
              "      <td>266555.0</td>\n",
              "    </tr>\n",
              "    <tr>\n",
              "      <th>1161</th>\n",
              "      <td>2020-01-01</td>\n",
              "      <td>53.747842</td>\n",
              "      <td>7.077155</td>\n",
              "      <td>39.555630</td>\n",
              "      <td>1483</td>\n",
              "      <td>274445.0</td>\n",
              "    </tr>\n",
              "    <tr>\n",
              "      <th>1452</th>\n",
              "      <td>2020-04-01</td>\n",
              "      <td>47.353350</td>\n",
              "      <td>7.739009</td>\n",
              "      <td>44.363132</td>\n",
              "      <td>1622</td>\n",
              "      <td>260995.0</td>\n",
              "    </tr>\n",
              "    <tr>\n",
              "      <th>1743</th>\n",
              "      <td>2020-07-01</td>\n",
              "      <td>59.037238</td>\n",
              "      <td>19.380561</td>\n",
              "      <td>38.209581</td>\n",
              "      <td>1837</td>\n",
              "      <td>300015.0</td>\n",
              "    </tr>\n",
              "    <tr>\n",
              "      <th>2033</th>\n",
              "      <td>2020-10-01</td>\n",
              "      <td>45.983139</td>\n",
              "      <td>12.187001</td>\n",
              "      <td>45.211782</td>\n",
              "      <td>1341</td>\n",
              "      <td>242955.0</td>\n",
              "    </tr>\n",
              "    <tr>\n",
              "      <th>2325</th>\n",
              "      <td>2021-01-01</td>\n",
              "      <td>50.058416</td>\n",
              "      <td>11.773874</td>\n",
              "      <td>37.569746</td>\n",
              "      <td>1613</td>\n",
              "      <td>293085.0</td>\n",
              "    </tr>\n",
              "    <tr>\n",
              "      <th>2616</th>\n",
              "      <td>2021-04-01</td>\n",
              "      <td>82.909560</td>\n",
              "      <td>16.414656</td>\n",
              "      <td>31.818584</td>\n",
              "      <td>1582</td>\n",
              "      <td>304500.0</td>\n",
              "    </tr>\n",
              "    <tr>\n",
              "      <th>2907</th>\n",
              "      <td>2021-07-01</td>\n",
              "      <td>61.926635</td>\n",
              "      <td>14.190562</td>\n",
              "      <td>39.253244</td>\n",
              "      <td>2081</td>\n",
              "      <td>307935.0</td>\n",
              "    </tr>\n",
              "    <tr>\n",
              "      <th>3198</th>\n",
              "      <td>2021-10-01</td>\n",
              "      <td>66.359073</td>\n",
              "      <td>16.415049</td>\n",
              "      <td>36.057464</td>\n",
              "      <td>1601</td>\n",
              "      <td>286590.0</td>\n",
              "    </tr>\n",
              "  </tbody>\n",
              "</table>\n",
              "</div>\n",
              "      <button class=\"colab-df-convert\" onclick=\"convertToInteractive('df-00e34e29-e766-4229-a842-da779678592c')\"\n",
              "              title=\"Convert this dataframe to an interactive table.\"\n",
              "              style=\"display:none;\">\n",
              "        \n",
              "  <svg xmlns=\"http://www.w3.org/2000/svg\" height=\"24px\"viewBox=\"0 0 24 24\"\n",
              "       width=\"24px\">\n",
              "    <path d=\"M0 0h24v24H0V0z\" fill=\"none\"/>\n",
              "    <path d=\"M18.56 5.44l.94 2.06.94-2.06 2.06-.94-2.06-.94-.94-2.06-.94 2.06-2.06.94zm-11 1L8.5 8.5l.94-2.06 2.06-.94-2.06-.94L8.5 2.5l-.94 2.06-2.06.94zm10 10l.94 2.06.94-2.06 2.06-.94-2.06-.94-.94-2.06-.94 2.06-2.06.94z\"/><path d=\"M17.41 7.96l-1.37-1.37c-.4-.4-.92-.59-1.43-.59-.52 0-1.04.2-1.43.59L10.3 9.45l-7.72 7.72c-.78.78-.78 2.05 0 2.83L4 21.41c.39.39.9.59 1.41.59.51 0 1.02-.2 1.41-.59l7.78-7.78 2.81-2.81c.8-.78.8-2.07 0-2.86zM5.41 20L4 18.59l7.72-7.72 1.47 1.35L5.41 20z\"/>\n",
              "  </svg>\n",
              "      </button>\n",
              "      \n",
              "  <style>\n",
              "    .colab-df-container {\n",
              "      display:flex;\n",
              "      flex-wrap:wrap;\n",
              "      gap: 12px;\n",
              "    }\n",
              "\n",
              "    .colab-df-convert {\n",
              "      background-color: #E8F0FE;\n",
              "      border: none;\n",
              "      border-radius: 50%;\n",
              "      cursor: pointer;\n",
              "      display: none;\n",
              "      fill: #1967D2;\n",
              "      height: 32px;\n",
              "      padding: 0 0 0 0;\n",
              "      width: 32px;\n",
              "    }\n",
              "\n",
              "    .colab-df-convert:hover {\n",
              "      background-color: #E2EBFA;\n",
              "      box-shadow: 0px 1px 2px rgba(60, 64, 67, 0.3), 0px 1px 3px 1px rgba(60, 64, 67, 0.15);\n",
              "      fill: #174EA6;\n",
              "    }\n",
              "\n",
              "    [theme=dark] .colab-df-convert {\n",
              "      background-color: #3B4455;\n",
              "      fill: #D2E3FC;\n",
              "    }\n",
              "\n",
              "    [theme=dark] .colab-df-convert:hover {\n",
              "      background-color: #434B5C;\n",
              "      box-shadow: 0px 1px 3px 1px rgba(0, 0, 0, 0.15);\n",
              "      filter: drop-shadow(0px 1px 2px rgba(0, 0, 0, 0.3));\n",
              "      fill: #FFFFFF;\n",
              "    }\n",
              "  </style>\n",
              "\n",
              "      <script>\n",
              "        const buttonEl =\n",
              "          document.querySelector('#df-00e34e29-e766-4229-a842-da779678592c button.colab-df-convert');\n",
              "        buttonEl.style.display =\n",
              "          google.colab.kernel.accessAllowed ? 'block' : 'none';\n",
              "\n",
              "        async function convertToInteractive(key) {\n",
              "          const element = document.querySelector('#df-00e34e29-e766-4229-a842-da779678592c');\n",
              "          const dataTable =\n",
              "            await google.colab.kernel.invokeFunction('convertToInteractive',\n",
              "                                                     [key], {});\n",
              "          if (!dataTable) return;\n",
              "\n",
              "          const docLinkHtml = 'Like what you see? Visit the ' +\n",
              "            '<a target=\"_blank\" href=https://colab.research.google.com/notebooks/data_table.ipynb>data table notebook</a>'\n",
              "            + ' to learn more about interactive tables.';\n",
              "          element.innerHTML = '';\n",
              "          dataTable['output_type'] = 'display_data';\n",
              "          await google.colab.output.renderOutput(dataTable, element);\n",
              "          const docLink = document.createElement('div');\n",
              "          docLink.innerHTML = docLinkHtml;\n",
              "          element.appendChild(docLink);\n",
              "        }\n",
              "      </script>\n",
              "    </div>\n",
              "  </div>\n",
              "  "
            ]
          },
          "metadata": {},
          "execution_count": 198
        }
      ]
    },
    {
      "cell_type": "code",
      "source": [
        "train=df_ftr.iloc[:int(df_ftr.shape[0]-1)]\n",
        "valid=df_ftr.iloc[int(df_ftr.shape[0]-1):]\n",
        "y_pred=valid.copy()\n",
        "print(y_pred)"
      ],
      "metadata": {
        "id": "hIvdeqYdVgrD",
        "colab": {
          "base_uri": "https://localhost:8080/"
        },
        "outputId": "67c9cae6-3bf9-43bd-8f09-5f6f4f2da57d"
      },
      "execution_count": 199,
      "outputs": [
        {
          "output_type": "stream",
          "name": "stdout",
          "text": [
            "           date  avg_d_mbps  avg_u_mbps  avg_lat_ms  tests    DA_POP\n",
            "3198 2021-10-01   66.359073   16.415049   36.057464   1601  286590.0\n"
          ]
        }
      ]
    },
    {
      "cell_type": "markdown",
      "source": [
        "## AR Model (using AUTO ARIMA)"
      ],
      "metadata": {
        "id": "k8PU9_NvBeRs"
      }
    },
    {
      "cell_type": "code",
      "source": [
        "# https://www.kaggle.com/code/neelkudu28/covid-19-visualizations-predictions-forecasting#Time-Series-Forecasting\n",
        "# AR Model (using AUTO ARIMA)\n",
        "model_ar= auto_arima(train[\"avg_d_mbps\"],trace=True, error_action='ignore', start_p=0,start_q=0,max_p=4,max_q=0,\n",
        "                   suppress_warnings=True,stepwise=False,seasonal=False)\n",
        "model_ar.fit(train[\"avg_d_mbps\"])"
      ],
      "metadata": {
        "colab": {
          "base_uri": "https://localhost:8080/"
        },
        "id": "sFV9u-WG7KRu",
        "outputId": "5d3cbeda-cb3a-424e-baff-f740a2b34e28"
      },
      "execution_count": 200,
      "outputs": [
        {
          "output_type": "stream",
          "name": "stdout",
          "text": [
            " ARIMA(0,0,0)(0,0,0)[0]             : AIC=122.849, Time=0.00 sec\n",
            " ARIMA(1,0,0)(0,0,0)[0]             : AIC=97.043, Time=0.01 sec\n",
            " ARIMA(2,0,0)(0,0,0)[0]             : AIC=97.140, Time=0.03 sec\n",
            " ARIMA(3,0,0)(0,0,0)[0]             : AIC=inf, Time=0.07 sec\n",
            "\n",
            "Best model:  ARIMA(1,0,0)(0,0,0)[0]          \n",
            "Total fit time: 0.123 seconds\n"
          ]
        },
        {
          "output_type": "execute_result",
          "data": {
            "text/plain": [
              "ARIMA(order=(1, 0, 0), scoring_args={}, suppress_warnings=True,\n",
              "      with_intercept=False)"
            ]
          },
          "metadata": {},
          "execution_count": 200
        }
      ]
    },
    {
      "cell_type": "code",
      "source": [
        "prediction_ar=model_ar.predict(len(valid))\n",
        "y_pred[\"AR Model Prediction\"]=prediction_ar"
      ],
      "metadata": {
        "id": "Ca_bEZaQ7Q6d"
      },
      "execution_count": 201,
      "outputs": []
    },
    {
      "cell_type": "code",
      "source": [
        "RMSE_scores=[]\n",
        "MSE_scores=[]\n",
        "RMSE_scores.append(np.sqrt(mean_squared_error(y_pred[\"avg_d_mbps\"],y_pred[\"AR Model Prediction\"])))\n",
        "MSE_scores.append(mean_squared_error(y_pred[\"avg_d_mbps\"],y_pred[\"AR Model Prediction\"]))\n",
        "print(\"Root Mean Square Error for AR Model: \",np.sqrt(mean_squared_error(y_pred[\"avg_d_mbps\"],y_pred[\"AR Model Prediction\"])))\n",
        "print(\"Mean Square Error for AR Model: \",mean_squared_error(y_pred[\"avg_d_mbps\"],y_pred[\"AR Model Prediction\"]))"
      ],
      "metadata": {
        "colab": {
          "base_uri": "https://localhost:8080/"
        },
        "id": "Pu0fW5En79s1",
        "outputId": "3352e647-9597-44c0-c453-02e21379cbca"
      },
      "execution_count": 202,
      "outputs": [
        {
          "output_type": "stream",
          "name": "stdout",
          "text": [
            "Root Mean Square Error for AR Model:  6.531194237847565\n",
            "Mean Square Error for AR Model:  42.65649817249324\n"
          ]
        }
      ]
    },
    {
      "cell_type": "code",
      "source": [
        "fig=go.Figure()\n",
        "fig.add_trace(go.Scatter(x=train.date, y=train[\"avg_d_mbps\"],\n",
        "                    mode='lines+markers',name=\"Train Data for download speed\"))\n",
        "fig.add_trace(go.Scatter(x=valid.date, y=valid[\"avg_d_mbps\"],\n",
        "                    mode='lines+markers',name=\"Validation Data for for download speed\",))\n",
        "fig.add_trace(go.Scatter(x=valid.date, y=y_pred[\"AR Model Prediction\"],\n",
        "                    mode='lines+markers',name=\"Prediction of for download speed\",))\n",
        "fig.update_layout(title=\"Download speed AR Model Prediction\",\n",
        "                 xaxis_title=\"Quaters\",yaxis_title=\"Download speed\",legend=dict(x=0,y=1,traceorder=\"normal\"))\n",
        "fig.show()"
      ],
      "metadata": {
        "colab": {
          "base_uri": "https://localhost:8080/",
          "height": 562
        },
        "id": "exeBKcBf8HT3",
        "outputId": "e8448631-d8a4-4f6c-e6f4-db6c3642481d"
      },
      "execution_count": 203,
      "outputs": [
        {
          "output_type": "display_data",
          "data": {
            "text/html": [
              "<html>\n",
              "<head><meta charset=\"utf-8\" /></head>\n",
              "<body>\n",
              "    <div>            <script src=\"https://cdnjs.cloudflare.com/ajax/libs/mathjax/2.7.5/MathJax.js?config=TeX-AMS-MML_SVG\"></script><script type=\"text/javascript\">if (window.MathJax) {MathJax.Hub.Config({SVG: {font: \"STIX-Web\"}});}</script>                <script type=\"text/javascript\">window.PlotlyConfig = {MathJaxConfig: 'local'};</script>\n",
              "        <script src=\"https://cdn.plot.ly/plotly-2.8.3.min.js\"></script>                <div id=\"e06d17e3-513b-4f1f-ba86-59776e76638d\" class=\"plotly-graph-div\" style=\"height:525px; width:100%;\"></div>            <script type=\"text/javascript\">                                    window.PLOTLYENV=window.PLOTLYENV || {};                                    if (document.getElementById(\"e06d17e3-513b-4f1f-ba86-59776e76638d\")) {                    Plotly.newPlot(                        \"e06d17e3-513b-4f1f-ba86-59776e76638d\",                        [{\"mode\":\"lines+markers\",\"name\":\"Train Data for download speed\",\"x\":[\"2019-01-01T00:00:00\",\"2019-04-01T00:00:00\",\"2019-07-01T00:00:00\",\"2019-10-01T00:00:00\",\"2020-01-01T00:00:00\",\"2020-04-01T00:00:00\",\"2020-07-01T00:00:00\",\"2020-10-01T00:00:00\",\"2021-01-01T00:00:00\",\"2021-04-01T00:00:00\",\"2021-07-01T00:00:00\"],\"y\":[49.69074909354605,63.24584206586826,59.62087569573283,63.75943021472393,53.74784153742416,47.353349568434034,59.03723788786065,45.983139448173006,50.058415995040285,82.9095600505689,61.926634790965885],\"type\":\"scatter\"},{\"mode\":\"lines+markers\",\"name\":\"Validation Data for for download speed\",\"x\":[\"2021-10-01T00:00:00\"],\"y\":[66.35907307932543],\"type\":\"scatter\"},{\"mode\":\"lines+markers\",\"name\":\"Prediction of for download speed\",\"x\":[\"2021-10-01T00:00:00\"],\"y\":[59.82787884147786],\"type\":\"scatter\"}],                        {\"template\":{\"data\":{\"bar\":[{\"error_x\":{\"color\":\"#2a3f5f\"},\"error_y\":{\"color\":\"#2a3f5f\"},\"marker\":{\"line\":{\"color\":\"#E5ECF6\",\"width\":0.5},\"pattern\":{\"fillmode\":\"overlay\",\"size\":10,\"solidity\":0.2}},\"type\":\"bar\"}],\"barpolar\":[{\"marker\":{\"line\":{\"color\":\"#E5ECF6\",\"width\":0.5},\"pattern\":{\"fillmode\":\"overlay\",\"size\":10,\"solidity\":0.2}},\"type\":\"barpolar\"}],\"carpet\":[{\"aaxis\":{\"endlinecolor\":\"#2a3f5f\",\"gridcolor\":\"white\",\"linecolor\":\"white\",\"minorgridcolor\":\"white\",\"startlinecolor\":\"#2a3f5f\"},\"baxis\":{\"endlinecolor\":\"#2a3f5f\",\"gridcolor\":\"white\",\"linecolor\":\"white\",\"minorgridcolor\":\"white\",\"startlinecolor\":\"#2a3f5f\"},\"type\":\"carpet\"}],\"choropleth\":[{\"colorbar\":{\"outlinewidth\":0,\"ticks\":\"\"},\"type\":\"choropleth\"}],\"contour\":[{\"colorbar\":{\"outlinewidth\":0,\"ticks\":\"\"},\"colorscale\":[[0.0,\"#0d0887\"],[0.1111111111111111,\"#46039f\"],[0.2222222222222222,\"#7201a8\"],[0.3333333333333333,\"#9c179e\"],[0.4444444444444444,\"#bd3786\"],[0.5555555555555556,\"#d8576b\"],[0.6666666666666666,\"#ed7953\"],[0.7777777777777778,\"#fb9f3a\"],[0.8888888888888888,\"#fdca26\"],[1.0,\"#f0f921\"]],\"type\":\"contour\"}],\"contourcarpet\":[{\"colorbar\":{\"outlinewidth\":0,\"ticks\":\"\"},\"type\":\"contourcarpet\"}],\"heatmap\":[{\"colorbar\":{\"outlinewidth\":0,\"ticks\":\"\"},\"colorscale\":[[0.0,\"#0d0887\"],[0.1111111111111111,\"#46039f\"],[0.2222222222222222,\"#7201a8\"],[0.3333333333333333,\"#9c179e\"],[0.4444444444444444,\"#bd3786\"],[0.5555555555555556,\"#d8576b\"],[0.6666666666666666,\"#ed7953\"],[0.7777777777777778,\"#fb9f3a\"],[0.8888888888888888,\"#fdca26\"],[1.0,\"#f0f921\"]],\"type\":\"heatmap\"}],\"heatmapgl\":[{\"colorbar\":{\"outlinewidth\":0,\"ticks\":\"\"},\"colorscale\":[[0.0,\"#0d0887\"],[0.1111111111111111,\"#46039f\"],[0.2222222222222222,\"#7201a8\"],[0.3333333333333333,\"#9c179e\"],[0.4444444444444444,\"#bd3786\"],[0.5555555555555556,\"#d8576b\"],[0.6666666666666666,\"#ed7953\"],[0.7777777777777778,\"#fb9f3a\"],[0.8888888888888888,\"#fdca26\"],[1.0,\"#f0f921\"]],\"type\":\"heatmapgl\"}],\"histogram\":[{\"marker\":{\"pattern\":{\"fillmode\":\"overlay\",\"size\":10,\"solidity\":0.2}},\"type\":\"histogram\"}],\"histogram2d\":[{\"colorbar\":{\"outlinewidth\":0,\"ticks\":\"\"},\"colorscale\":[[0.0,\"#0d0887\"],[0.1111111111111111,\"#46039f\"],[0.2222222222222222,\"#7201a8\"],[0.3333333333333333,\"#9c179e\"],[0.4444444444444444,\"#bd3786\"],[0.5555555555555556,\"#d8576b\"],[0.6666666666666666,\"#ed7953\"],[0.7777777777777778,\"#fb9f3a\"],[0.8888888888888888,\"#fdca26\"],[1.0,\"#f0f921\"]],\"type\":\"histogram2d\"}],\"histogram2dcontour\":[{\"colorbar\":{\"outlinewidth\":0,\"ticks\":\"\"},\"colorscale\":[[0.0,\"#0d0887\"],[0.1111111111111111,\"#46039f\"],[0.2222222222222222,\"#7201a8\"],[0.3333333333333333,\"#9c179e\"],[0.4444444444444444,\"#bd3786\"],[0.5555555555555556,\"#d8576b\"],[0.6666666666666666,\"#ed7953\"],[0.7777777777777778,\"#fb9f3a\"],[0.8888888888888888,\"#fdca26\"],[1.0,\"#f0f921\"]],\"type\":\"histogram2dcontour\"}],\"mesh3d\":[{\"colorbar\":{\"outlinewidth\":0,\"ticks\":\"\"},\"type\":\"mesh3d\"}],\"parcoords\":[{\"line\":{\"colorbar\":{\"outlinewidth\":0,\"ticks\":\"\"}},\"type\":\"parcoords\"}],\"pie\":[{\"automargin\":true,\"type\":\"pie\"}],\"scatter\":[{\"marker\":{\"colorbar\":{\"outlinewidth\":0,\"ticks\":\"\"}},\"type\":\"scatter\"}],\"scatter3d\":[{\"line\":{\"colorbar\":{\"outlinewidth\":0,\"ticks\":\"\"}},\"marker\":{\"colorbar\":{\"outlinewidth\":0,\"ticks\":\"\"}},\"type\":\"scatter3d\"}],\"scattercarpet\":[{\"marker\":{\"colorbar\":{\"outlinewidth\":0,\"ticks\":\"\"}},\"type\":\"scattercarpet\"}],\"scattergeo\":[{\"marker\":{\"colorbar\":{\"outlinewidth\":0,\"ticks\":\"\"}},\"type\":\"scattergeo\"}],\"scattergl\":[{\"marker\":{\"colorbar\":{\"outlinewidth\":0,\"ticks\":\"\"}},\"type\":\"scattergl\"}],\"scattermapbox\":[{\"marker\":{\"colorbar\":{\"outlinewidth\":0,\"ticks\":\"\"}},\"type\":\"scattermapbox\"}],\"scatterpolar\":[{\"marker\":{\"colorbar\":{\"outlinewidth\":0,\"ticks\":\"\"}},\"type\":\"scatterpolar\"}],\"scatterpolargl\":[{\"marker\":{\"colorbar\":{\"outlinewidth\":0,\"ticks\":\"\"}},\"type\":\"scatterpolargl\"}],\"scatterternary\":[{\"marker\":{\"colorbar\":{\"outlinewidth\":0,\"ticks\":\"\"}},\"type\":\"scatterternary\"}],\"surface\":[{\"colorbar\":{\"outlinewidth\":0,\"ticks\":\"\"},\"colorscale\":[[0.0,\"#0d0887\"],[0.1111111111111111,\"#46039f\"],[0.2222222222222222,\"#7201a8\"],[0.3333333333333333,\"#9c179e\"],[0.4444444444444444,\"#bd3786\"],[0.5555555555555556,\"#d8576b\"],[0.6666666666666666,\"#ed7953\"],[0.7777777777777778,\"#fb9f3a\"],[0.8888888888888888,\"#fdca26\"],[1.0,\"#f0f921\"]],\"type\":\"surface\"}],\"table\":[{\"cells\":{\"fill\":{\"color\":\"#EBF0F8\"},\"line\":{\"color\":\"white\"}},\"header\":{\"fill\":{\"color\":\"#C8D4E3\"},\"line\":{\"color\":\"white\"}},\"type\":\"table\"}]},\"layout\":{\"annotationdefaults\":{\"arrowcolor\":\"#2a3f5f\",\"arrowhead\":0,\"arrowwidth\":1},\"autotypenumbers\":\"strict\",\"coloraxis\":{\"colorbar\":{\"outlinewidth\":0,\"ticks\":\"\"}},\"colorscale\":{\"diverging\":[[0,\"#8e0152\"],[0.1,\"#c51b7d\"],[0.2,\"#de77ae\"],[0.3,\"#f1b6da\"],[0.4,\"#fde0ef\"],[0.5,\"#f7f7f7\"],[0.6,\"#e6f5d0\"],[0.7,\"#b8e186\"],[0.8,\"#7fbc41\"],[0.9,\"#4d9221\"],[1,\"#276419\"]],\"sequential\":[[0.0,\"#0d0887\"],[0.1111111111111111,\"#46039f\"],[0.2222222222222222,\"#7201a8\"],[0.3333333333333333,\"#9c179e\"],[0.4444444444444444,\"#bd3786\"],[0.5555555555555556,\"#d8576b\"],[0.6666666666666666,\"#ed7953\"],[0.7777777777777778,\"#fb9f3a\"],[0.8888888888888888,\"#fdca26\"],[1.0,\"#f0f921\"]],\"sequentialminus\":[[0.0,\"#0d0887\"],[0.1111111111111111,\"#46039f\"],[0.2222222222222222,\"#7201a8\"],[0.3333333333333333,\"#9c179e\"],[0.4444444444444444,\"#bd3786\"],[0.5555555555555556,\"#d8576b\"],[0.6666666666666666,\"#ed7953\"],[0.7777777777777778,\"#fb9f3a\"],[0.8888888888888888,\"#fdca26\"],[1.0,\"#f0f921\"]]},\"colorway\":[\"#636efa\",\"#EF553B\",\"#00cc96\",\"#ab63fa\",\"#FFA15A\",\"#19d3f3\",\"#FF6692\",\"#B6E880\",\"#FF97FF\",\"#FECB52\"],\"font\":{\"color\":\"#2a3f5f\"},\"geo\":{\"bgcolor\":\"white\",\"lakecolor\":\"white\",\"landcolor\":\"#E5ECF6\",\"showlakes\":true,\"showland\":true,\"subunitcolor\":\"white\"},\"hoverlabel\":{\"align\":\"left\"},\"hovermode\":\"closest\",\"mapbox\":{\"style\":\"light\"},\"paper_bgcolor\":\"white\",\"plot_bgcolor\":\"#E5ECF6\",\"polar\":{\"angularaxis\":{\"gridcolor\":\"white\",\"linecolor\":\"white\",\"ticks\":\"\"},\"bgcolor\":\"#E5ECF6\",\"radialaxis\":{\"gridcolor\":\"white\",\"linecolor\":\"white\",\"ticks\":\"\"}},\"scene\":{\"xaxis\":{\"backgroundcolor\":\"#E5ECF6\",\"gridcolor\":\"white\",\"gridwidth\":2,\"linecolor\":\"white\",\"showbackground\":true,\"ticks\":\"\",\"zerolinecolor\":\"white\"},\"yaxis\":{\"backgroundcolor\":\"#E5ECF6\",\"gridcolor\":\"white\",\"gridwidth\":2,\"linecolor\":\"white\",\"showbackground\":true,\"ticks\":\"\",\"zerolinecolor\":\"white\"},\"zaxis\":{\"backgroundcolor\":\"#E5ECF6\",\"gridcolor\":\"white\",\"gridwidth\":2,\"linecolor\":\"white\",\"showbackground\":true,\"ticks\":\"\",\"zerolinecolor\":\"white\"}},\"shapedefaults\":{\"line\":{\"color\":\"#2a3f5f\"}},\"ternary\":{\"aaxis\":{\"gridcolor\":\"white\",\"linecolor\":\"white\",\"ticks\":\"\"},\"baxis\":{\"gridcolor\":\"white\",\"linecolor\":\"white\",\"ticks\":\"\"},\"bgcolor\":\"#E5ECF6\",\"caxis\":{\"gridcolor\":\"white\",\"linecolor\":\"white\",\"ticks\":\"\"}},\"title\":{\"x\":0.05},\"xaxis\":{\"automargin\":true,\"gridcolor\":\"white\",\"linecolor\":\"white\",\"ticks\":\"\",\"title\":{\"standoff\":15},\"zerolinecolor\":\"white\",\"zerolinewidth\":2},\"yaxis\":{\"automargin\":true,\"gridcolor\":\"white\",\"linecolor\":\"white\",\"ticks\":\"\",\"title\":{\"standoff\":15},\"zerolinecolor\":\"white\",\"zerolinewidth\":2}}},\"legend\":{\"x\":0,\"y\":1,\"traceorder\":\"normal\"},\"title\":{\"text\":\"Download speed AR Model Prediction\"},\"xaxis\":{\"title\":{\"text\":\"Quaters\"}},\"yaxis\":{\"title\":{\"text\":\"Download speed\"}}},                        {\"responsive\": true}                    ).then(function(){\n",
              "                            \n",
              "var gd = document.getElementById('e06d17e3-513b-4f1f-ba86-59776e76638d');\n",
              "var x = new MutationObserver(function (mutations, observer) {{\n",
              "        var display = window.getComputedStyle(gd).display;\n",
              "        if (!display || display === 'none') {{\n",
              "            console.log([gd, 'removed!']);\n",
              "            Plotly.purge(gd);\n",
              "            observer.disconnect();\n",
              "        }}\n",
              "}});\n",
              "\n",
              "// Listen for the removal of the full notebook cells\n",
              "var notebookContainer = gd.closest('#notebook-container');\n",
              "if (notebookContainer) {{\n",
              "    x.observe(notebookContainer, {childList: true});\n",
              "}}\n",
              "\n",
              "// Listen for the clearing of the current output cell\n",
              "var outputEl = gd.closest('.output');\n",
              "if (outputEl) {{\n",
              "    x.observe(outputEl, {childList: true});\n",
              "}}\n",
              "\n",
              "                        })                };                            </script>        </div>\n",
              "</body>\n",
              "</html>"
            ]
          },
          "metadata": {}
        }
      ]
    },
    {
      "cell_type": "markdown",
      "source": [
        "# ARIMA Model (using AUTOARIMA)"
      ],
      "metadata": {
        "id": "BsuV3Hp4BX0u"
      }
    },
    {
      "cell_type": "code",
      "source": [
        "model_arima= auto_arima(train[\"avg_d_mbps\"],trace=True, error_action='ignore', start_p=1,start_q=1,max_p=3,max_q=3,\n",
        "                   suppress_warnings=True,stepwise=False,seasonal=False)\n",
        "model_arima.fit(train[\"avg_d_mbps\"])"
      ],
      "metadata": {
        "colab": {
          "base_uri": "https://localhost:8080/"
        },
        "id": "DSiQNbiAAhLw",
        "outputId": "d6a22da6-a038-46e3-be44-239f1df0d9f3"
      },
      "execution_count": 204,
      "outputs": [
        {
          "output_type": "stream",
          "name": "stdout",
          "text": [
            " ARIMA(0,0,0)(0,0,0)[0]             : AIC=122.849, Time=0.01 sec\n",
            " ARIMA(0,0,1)(0,0,0)[0]             : AIC=inf, Time=0.06 sec\n",
            " ARIMA(0,0,2)(0,0,0)[0]             : AIC=inf, Time=0.09 sec\n",
            " ARIMA(0,0,3)(0,0,0)[0]             : AIC=nan, Time=0.05 sec\n",
            " ARIMA(1,0,0)(0,0,0)[0]             : AIC=97.043, Time=0.02 sec\n",
            " ARIMA(1,0,1)(0,0,0)[0]             : AIC=inf, Time=0.08 sec\n",
            " ARIMA(1,0,2)(0,0,0)[0]             : AIC=inf, Time=0.13 sec\n",
            " ARIMA(1,0,3)(0,0,0)[0]             : AIC=inf, Time=nan sec\n",
            " ARIMA(2,0,0)(0,0,0)[0]             : AIC=97.140, Time=0.05 sec\n",
            " ARIMA(2,0,1)(0,0,0)[0]             : AIC=96.772, Time=0.13 sec\n",
            " ARIMA(2,0,2)(0,0,0)[0]             : AIC=inf, Time=0.15 sec\n",
            " ARIMA(2,0,3)(0,0,0)[0]             : AIC=inf, Time=nan sec\n",
            " ARIMA(3,0,0)(0,0,0)[0]             : AIC=inf, Time=0.06 sec\n",
            " ARIMA(3,0,1)(0,0,0)[0]             : AIC=inf, Time=0.12 sec\n",
            " ARIMA(3,0,2)(0,0,0)[0]             : AIC=97.923, Time=0.20 sec\n",
            "\n",
            "Best model:  ARIMA(2,0,1)(0,0,0)[0]          \n",
            "Total fit time: 1.589 seconds\n"
          ]
        },
        {
          "output_type": "execute_result",
          "data": {
            "text/plain": [
              "ARIMA(order=(2, 0, 1), scoring_args={}, suppress_warnings=True,\n",
              "      with_intercept=False)"
            ]
          },
          "metadata": {},
          "execution_count": 204
        }
      ]
    },
    {
      "cell_type": "code",
      "source": [
        "prediction_arima=model_arima.predict(len(valid))\n",
        "y_pred[\"ARIMA Model Prediction\"]=prediction_arima"
      ],
      "metadata": {
        "id": "l5Skbw7tDOyk"
      },
      "execution_count": 205,
      "outputs": []
    },
    {
      "cell_type": "code",
      "source": [
        "RMSE_scores.append(np.sqrt(mean_squared_error(y_pred[\"avg_d_mbps\"],prediction_arima)))\n",
        "MSE_scores.append(mean_squared_error(y_pred[\"avg_d_mbps\"],prediction_arima))\n",
        "print(\"Root Mean Square Error for ARIMA Model: \",np.sqrt(mean_squared_error(y_pred[\"avg_d_mbps\"],prediction_arima)))\n",
        "print(\"Mean Square Error for AR Model: \",mean_squared_error(y_pred[\"avg_d_mbps\"],prediction_arima))"
      ],
      "metadata": {
        "colab": {
          "base_uri": "https://localhost:8080/"
        },
        "id": "C2rmTzqEDTw2",
        "outputId": "9e50c0b8-7fef-445b-bbc0-7e292ab9bf3e"
      },
      "execution_count": 206,
      "outputs": [
        {
          "output_type": "stream",
          "name": "stdout",
          "text": [
            "Root Mean Square Error for ARIMA Model:  8.354460161478627\n",
            "Mean Square Error for AR Model:  69.79700458973349\n"
          ]
        }
      ]
    },
    {
      "cell_type": "markdown",
      "source": [
        "# AR Model with exogenous variables"
      ],
      "metadata": {
        "id": "4gnoLmCqDjlL"
      }
    },
    {
      "cell_type": "code",
      "source": [
        "exogenous_var = ['DA_POP']\n",
        "model_ar_e= auto_arima(train[\"avg_d_mbps\"],trace=True, error_action='ignore', start_p=0,start_q=0,max_p=4,max_q=0,\n",
        "                   suppress_warnings=True,stepwise=False,seasonal=False,\n",
        "                   exogeneous=train[exogenous_var], stationarity=False, seasonality=True)\n",
        "model_ar_e.fit(train[\"avg_d_mbps\"], exogenous=train[exogenous_var])"
      ],
      "metadata": {
        "colab": {
          "base_uri": "https://localhost:8080/"
        },
        "id": "6wxGI8hiDZ2Y",
        "outputId": "6eb81de2-c455-4c80-95b9-edfa42e3b77a"
      },
      "execution_count": 207,
      "outputs": [
        {
          "output_type": "stream",
          "name": "stdout",
          "text": [
            " ARIMA(0,0,0)(0,0,0)[0]             : AIC=122.849, Time=0.01 sec\n",
            " ARIMA(1,0,0)(0,0,0)[0]             : AIC=97.043, Time=0.02 sec\n",
            " ARIMA(2,0,0)(0,0,0)[0]             : AIC=97.140, Time=0.04 sec\n",
            " ARIMA(3,0,0)(0,0,0)[0]             : AIC=inf, Time=0.05 sec\n",
            "\n",
            "Best model:  ARIMA(1,0,0)(0,0,0)[0]          \n",
            "Total fit time: 0.115 seconds\n"
          ]
        },
        {
          "output_type": "execute_result",
          "data": {
            "text/plain": [
              "ARIMA(order=(1, 0, 0), scoring_args={}, suppress_warnings=True,\n",
              "      with_intercept=False)"
            ]
          },
          "metadata": {},
          "execution_count": 207
        }
      ]
    },
    {
      "cell_type": "code",
      "source": [
        "prediction_ar_e=model_ar_e.predict(len(valid), exogenous=valid[exogenous_var])\n",
        "y_pred[\"AR Model Prediction with exogenous variables\"]=prediction_ar_e"
      ],
      "metadata": {
        "id": "Og5Kxy-BHgqo"
      },
      "execution_count": 208,
      "outputs": []
    },
    {
      "cell_type": "code",
      "source": [
        "RMSE_scores.append(np.sqrt(mean_squared_error(y_pred[\"avg_d_mbps\"],prediction_ar_e)))\n",
        "MSE_scores.append(mean_squared_error(y_pred[\"avg_d_mbps\"],prediction_ar_e))\n",
        "print(\"Root Mean Square Error for AR Model Prediction with exogenous variables: \",np.sqrt(mean_squared_error(y_pred[\"avg_d_mbps\"],prediction_ar_e)))\n",
        "print(\"Mean Square Error for AR Model Prediction with exogenous variables: \",mean_squared_error(y_pred[\"avg_d_mbps\"],prediction_ar_e))"
      ],
      "metadata": {
        "colab": {
          "base_uri": "https://localhost:8080/"
        },
        "id": "ob_HFYdlDqFB",
        "outputId": "240d9454-a436-4689-a594-bc277d357323"
      },
      "execution_count": 209,
      "outputs": [
        {
          "output_type": "stream",
          "name": "stdout",
          "text": [
            "Root Mean Square Error for AR Model Prediction with exogenous variables:  5.294172542859052\n",
            "Mean Square Error for AR Model Prediction with exogenous variables:  28.028262913562678\n"
          ]
        }
      ]
    },
    {
      "cell_type": "code",
      "source": [
        "fig=go.Figure()\n",
        "fig.add_trace(go.Scatter(x=train.date, y=train[\"avg_d_mbps\"],\n",
        "                    mode='lines+markers',name=\"Train Data for download speed\"))\n",
        "fig.add_trace(go.Scatter(x=valid.date, y=valid[\"avg_d_mbps\"],\n",
        "                    mode='lines+markers',name=\"Validation Data for for download speed\",))\n",
        "fig.add_trace(go.Scatter(x=valid.date, y=y_pred[\"AR Model Prediction with exogenous variables\"],\n",
        "                    mode='lines+markers',name=\"Prediction of for download speed\",))\n",
        "fig.update_layout(title=\"Download speed AR Model Prediction with exogenous variables\",\n",
        "                 xaxis_title=\"Quaters\",yaxis_title=\"Download speed\",legend=dict(x=0,y=1,traceorder=\"normal\"))\n",
        "fig.show()"
      ],
      "metadata": {
        "colab": {
          "base_uri": "https://localhost:8080/",
          "height": 562
        },
        "id": "jirURejaOh-L",
        "outputId": "f89b4f63-40e5-400e-8c2c-8b8c14310fbd"
      },
      "execution_count": 210,
      "outputs": [
        {
          "output_type": "display_data",
          "data": {
            "text/html": [
              "<html>\n",
              "<head><meta charset=\"utf-8\" /></head>\n",
              "<body>\n",
              "    <div>            <script src=\"https://cdnjs.cloudflare.com/ajax/libs/mathjax/2.7.5/MathJax.js?config=TeX-AMS-MML_SVG\"></script><script type=\"text/javascript\">if (window.MathJax) {MathJax.Hub.Config({SVG: {font: \"STIX-Web\"}});}</script>                <script type=\"text/javascript\">window.PlotlyConfig = {MathJaxConfig: 'local'};</script>\n",
              "        <script src=\"https://cdn.plot.ly/plotly-2.8.3.min.js\"></script>                <div id=\"25e667b0-8ed5-4ea7-aef6-6fab8268d6db\" class=\"plotly-graph-div\" style=\"height:525px; width:100%;\"></div>            <script type=\"text/javascript\">                                    window.PLOTLYENV=window.PLOTLYENV || {};                                    if (document.getElementById(\"25e667b0-8ed5-4ea7-aef6-6fab8268d6db\")) {                    Plotly.newPlot(                        \"25e667b0-8ed5-4ea7-aef6-6fab8268d6db\",                        [{\"mode\":\"lines+markers\",\"name\":\"Train Data for download speed\",\"x\":[\"2019-01-01T00:00:00\",\"2019-04-01T00:00:00\",\"2019-07-01T00:00:00\",\"2019-10-01T00:00:00\",\"2020-01-01T00:00:00\",\"2020-04-01T00:00:00\",\"2020-07-01T00:00:00\",\"2020-10-01T00:00:00\",\"2021-01-01T00:00:00\",\"2021-04-01T00:00:00\",\"2021-07-01T00:00:00\"],\"y\":[49.69074909354605,63.24584206586826,59.62087569573283,63.75943021472393,53.74784153742416,47.353349568434034,59.03723788786065,45.983139448173006,50.058415995040285,82.9095600505689,61.926634790965885],\"type\":\"scatter\"},{\"mode\":\"lines+markers\",\"name\":\"Validation Data for for download speed\",\"x\":[\"2021-10-01T00:00:00\"],\"y\":[66.35907307932543],\"type\":\"scatter\"},{\"mode\":\"lines+markers\",\"name\":\"Prediction of for download speed\",\"x\":[\"2021-10-01T00:00:00\"],\"y\":[61.064900536466375],\"type\":\"scatter\"}],                        {\"template\":{\"data\":{\"bar\":[{\"error_x\":{\"color\":\"#2a3f5f\"},\"error_y\":{\"color\":\"#2a3f5f\"},\"marker\":{\"line\":{\"color\":\"#E5ECF6\",\"width\":0.5},\"pattern\":{\"fillmode\":\"overlay\",\"size\":10,\"solidity\":0.2}},\"type\":\"bar\"}],\"barpolar\":[{\"marker\":{\"line\":{\"color\":\"#E5ECF6\",\"width\":0.5},\"pattern\":{\"fillmode\":\"overlay\",\"size\":10,\"solidity\":0.2}},\"type\":\"barpolar\"}],\"carpet\":[{\"aaxis\":{\"endlinecolor\":\"#2a3f5f\",\"gridcolor\":\"white\",\"linecolor\":\"white\",\"minorgridcolor\":\"white\",\"startlinecolor\":\"#2a3f5f\"},\"baxis\":{\"endlinecolor\":\"#2a3f5f\",\"gridcolor\":\"white\",\"linecolor\":\"white\",\"minorgridcolor\":\"white\",\"startlinecolor\":\"#2a3f5f\"},\"type\":\"carpet\"}],\"choropleth\":[{\"colorbar\":{\"outlinewidth\":0,\"ticks\":\"\"},\"type\":\"choropleth\"}],\"contour\":[{\"colorbar\":{\"outlinewidth\":0,\"ticks\":\"\"},\"colorscale\":[[0.0,\"#0d0887\"],[0.1111111111111111,\"#46039f\"],[0.2222222222222222,\"#7201a8\"],[0.3333333333333333,\"#9c179e\"],[0.4444444444444444,\"#bd3786\"],[0.5555555555555556,\"#d8576b\"],[0.6666666666666666,\"#ed7953\"],[0.7777777777777778,\"#fb9f3a\"],[0.8888888888888888,\"#fdca26\"],[1.0,\"#f0f921\"]],\"type\":\"contour\"}],\"contourcarpet\":[{\"colorbar\":{\"outlinewidth\":0,\"ticks\":\"\"},\"type\":\"contourcarpet\"}],\"heatmap\":[{\"colorbar\":{\"outlinewidth\":0,\"ticks\":\"\"},\"colorscale\":[[0.0,\"#0d0887\"],[0.1111111111111111,\"#46039f\"],[0.2222222222222222,\"#7201a8\"],[0.3333333333333333,\"#9c179e\"],[0.4444444444444444,\"#bd3786\"],[0.5555555555555556,\"#d8576b\"],[0.6666666666666666,\"#ed7953\"],[0.7777777777777778,\"#fb9f3a\"],[0.8888888888888888,\"#fdca26\"],[1.0,\"#f0f921\"]],\"type\":\"heatmap\"}],\"heatmapgl\":[{\"colorbar\":{\"outlinewidth\":0,\"ticks\":\"\"},\"colorscale\":[[0.0,\"#0d0887\"],[0.1111111111111111,\"#46039f\"],[0.2222222222222222,\"#7201a8\"],[0.3333333333333333,\"#9c179e\"],[0.4444444444444444,\"#bd3786\"],[0.5555555555555556,\"#d8576b\"],[0.6666666666666666,\"#ed7953\"],[0.7777777777777778,\"#fb9f3a\"],[0.8888888888888888,\"#fdca26\"],[1.0,\"#f0f921\"]],\"type\":\"heatmapgl\"}],\"histogram\":[{\"marker\":{\"pattern\":{\"fillmode\":\"overlay\",\"size\":10,\"solidity\":0.2}},\"type\":\"histogram\"}],\"histogram2d\":[{\"colorbar\":{\"outlinewidth\":0,\"ticks\":\"\"},\"colorscale\":[[0.0,\"#0d0887\"],[0.1111111111111111,\"#46039f\"],[0.2222222222222222,\"#7201a8\"],[0.3333333333333333,\"#9c179e\"],[0.4444444444444444,\"#bd3786\"],[0.5555555555555556,\"#d8576b\"],[0.6666666666666666,\"#ed7953\"],[0.7777777777777778,\"#fb9f3a\"],[0.8888888888888888,\"#fdca26\"],[1.0,\"#f0f921\"]],\"type\":\"histogram2d\"}],\"histogram2dcontour\":[{\"colorbar\":{\"outlinewidth\":0,\"ticks\":\"\"},\"colorscale\":[[0.0,\"#0d0887\"],[0.1111111111111111,\"#46039f\"],[0.2222222222222222,\"#7201a8\"],[0.3333333333333333,\"#9c179e\"],[0.4444444444444444,\"#bd3786\"],[0.5555555555555556,\"#d8576b\"],[0.6666666666666666,\"#ed7953\"],[0.7777777777777778,\"#fb9f3a\"],[0.8888888888888888,\"#fdca26\"],[1.0,\"#f0f921\"]],\"type\":\"histogram2dcontour\"}],\"mesh3d\":[{\"colorbar\":{\"outlinewidth\":0,\"ticks\":\"\"},\"type\":\"mesh3d\"}],\"parcoords\":[{\"line\":{\"colorbar\":{\"outlinewidth\":0,\"ticks\":\"\"}},\"type\":\"parcoords\"}],\"pie\":[{\"automargin\":true,\"type\":\"pie\"}],\"scatter\":[{\"marker\":{\"colorbar\":{\"outlinewidth\":0,\"ticks\":\"\"}},\"type\":\"scatter\"}],\"scatter3d\":[{\"line\":{\"colorbar\":{\"outlinewidth\":0,\"ticks\":\"\"}},\"marker\":{\"colorbar\":{\"outlinewidth\":0,\"ticks\":\"\"}},\"type\":\"scatter3d\"}],\"scattercarpet\":[{\"marker\":{\"colorbar\":{\"outlinewidth\":0,\"ticks\":\"\"}},\"type\":\"scattercarpet\"}],\"scattergeo\":[{\"marker\":{\"colorbar\":{\"outlinewidth\":0,\"ticks\":\"\"}},\"type\":\"scattergeo\"}],\"scattergl\":[{\"marker\":{\"colorbar\":{\"outlinewidth\":0,\"ticks\":\"\"}},\"type\":\"scattergl\"}],\"scattermapbox\":[{\"marker\":{\"colorbar\":{\"outlinewidth\":0,\"ticks\":\"\"}},\"type\":\"scattermapbox\"}],\"scatterpolar\":[{\"marker\":{\"colorbar\":{\"outlinewidth\":0,\"ticks\":\"\"}},\"type\":\"scatterpolar\"}],\"scatterpolargl\":[{\"marker\":{\"colorbar\":{\"outlinewidth\":0,\"ticks\":\"\"}},\"type\":\"scatterpolargl\"}],\"scatterternary\":[{\"marker\":{\"colorbar\":{\"outlinewidth\":0,\"ticks\":\"\"}},\"type\":\"scatterternary\"}],\"surface\":[{\"colorbar\":{\"outlinewidth\":0,\"ticks\":\"\"},\"colorscale\":[[0.0,\"#0d0887\"],[0.1111111111111111,\"#46039f\"],[0.2222222222222222,\"#7201a8\"],[0.3333333333333333,\"#9c179e\"],[0.4444444444444444,\"#bd3786\"],[0.5555555555555556,\"#d8576b\"],[0.6666666666666666,\"#ed7953\"],[0.7777777777777778,\"#fb9f3a\"],[0.8888888888888888,\"#fdca26\"],[1.0,\"#f0f921\"]],\"type\":\"surface\"}],\"table\":[{\"cells\":{\"fill\":{\"color\":\"#EBF0F8\"},\"line\":{\"color\":\"white\"}},\"header\":{\"fill\":{\"color\":\"#C8D4E3\"},\"line\":{\"color\":\"white\"}},\"type\":\"table\"}]},\"layout\":{\"annotationdefaults\":{\"arrowcolor\":\"#2a3f5f\",\"arrowhead\":0,\"arrowwidth\":1},\"autotypenumbers\":\"strict\",\"coloraxis\":{\"colorbar\":{\"outlinewidth\":0,\"ticks\":\"\"}},\"colorscale\":{\"diverging\":[[0,\"#8e0152\"],[0.1,\"#c51b7d\"],[0.2,\"#de77ae\"],[0.3,\"#f1b6da\"],[0.4,\"#fde0ef\"],[0.5,\"#f7f7f7\"],[0.6,\"#e6f5d0\"],[0.7,\"#b8e186\"],[0.8,\"#7fbc41\"],[0.9,\"#4d9221\"],[1,\"#276419\"]],\"sequential\":[[0.0,\"#0d0887\"],[0.1111111111111111,\"#46039f\"],[0.2222222222222222,\"#7201a8\"],[0.3333333333333333,\"#9c179e\"],[0.4444444444444444,\"#bd3786\"],[0.5555555555555556,\"#d8576b\"],[0.6666666666666666,\"#ed7953\"],[0.7777777777777778,\"#fb9f3a\"],[0.8888888888888888,\"#fdca26\"],[1.0,\"#f0f921\"]],\"sequentialminus\":[[0.0,\"#0d0887\"],[0.1111111111111111,\"#46039f\"],[0.2222222222222222,\"#7201a8\"],[0.3333333333333333,\"#9c179e\"],[0.4444444444444444,\"#bd3786\"],[0.5555555555555556,\"#d8576b\"],[0.6666666666666666,\"#ed7953\"],[0.7777777777777778,\"#fb9f3a\"],[0.8888888888888888,\"#fdca26\"],[1.0,\"#f0f921\"]]},\"colorway\":[\"#636efa\",\"#EF553B\",\"#00cc96\",\"#ab63fa\",\"#FFA15A\",\"#19d3f3\",\"#FF6692\",\"#B6E880\",\"#FF97FF\",\"#FECB52\"],\"font\":{\"color\":\"#2a3f5f\"},\"geo\":{\"bgcolor\":\"white\",\"lakecolor\":\"white\",\"landcolor\":\"#E5ECF6\",\"showlakes\":true,\"showland\":true,\"subunitcolor\":\"white\"},\"hoverlabel\":{\"align\":\"left\"},\"hovermode\":\"closest\",\"mapbox\":{\"style\":\"light\"},\"paper_bgcolor\":\"white\",\"plot_bgcolor\":\"#E5ECF6\",\"polar\":{\"angularaxis\":{\"gridcolor\":\"white\",\"linecolor\":\"white\",\"ticks\":\"\"},\"bgcolor\":\"#E5ECF6\",\"radialaxis\":{\"gridcolor\":\"white\",\"linecolor\":\"white\",\"ticks\":\"\"}},\"scene\":{\"xaxis\":{\"backgroundcolor\":\"#E5ECF6\",\"gridcolor\":\"white\",\"gridwidth\":2,\"linecolor\":\"white\",\"showbackground\":true,\"ticks\":\"\",\"zerolinecolor\":\"white\"},\"yaxis\":{\"backgroundcolor\":\"#E5ECF6\",\"gridcolor\":\"white\",\"gridwidth\":2,\"linecolor\":\"white\",\"showbackground\":true,\"ticks\":\"\",\"zerolinecolor\":\"white\"},\"zaxis\":{\"backgroundcolor\":\"#E5ECF6\",\"gridcolor\":\"white\",\"gridwidth\":2,\"linecolor\":\"white\",\"showbackground\":true,\"ticks\":\"\",\"zerolinecolor\":\"white\"}},\"shapedefaults\":{\"line\":{\"color\":\"#2a3f5f\"}},\"ternary\":{\"aaxis\":{\"gridcolor\":\"white\",\"linecolor\":\"white\",\"ticks\":\"\"},\"baxis\":{\"gridcolor\":\"white\",\"linecolor\":\"white\",\"ticks\":\"\"},\"bgcolor\":\"#E5ECF6\",\"caxis\":{\"gridcolor\":\"white\",\"linecolor\":\"white\",\"ticks\":\"\"}},\"title\":{\"x\":0.05},\"xaxis\":{\"automargin\":true,\"gridcolor\":\"white\",\"linecolor\":\"white\",\"ticks\":\"\",\"title\":{\"standoff\":15},\"zerolinecolor\":\"white\",\"zerolinewidth\":2},\"yaxis\":{\"automargin\":true,\"gridcolor\":\"white\",\"linecolor\":\"white\",\"ticks\":\"\",\"title\":{\"standoff\":15},\"zerolinecolor\":\"white\",\"zerolinewidth\":2}}},\"legend\":{\"x\":0,\"y\":1,\"traceorder\":\"normal\"},\"title\":{\"text\":\"Download speed AR Model Prediction with exogenous variables\"},\"xaxis\":{\"title\":{\"text\":\"Quaters\"}},\"yaxis\":{\"title\":{\"text\":\"Download speed\"}}},                        {\"responsive\": true}                    ).then(function(){\n",
              "                            \n",
              "var gd = document.getElementById('25e667b0-8ed5-4ea7-aef6-6fab8268d6db');\n",
              "var x = new MutationObserver(function (mutations, observer) {{\n",
              "        var display = window.getComputedStyle(gd).display;\n",
              "        if (!display || display === 'none') {{\n",
              "            console.log([gd, 'removed!']);\n",
              "            Plotly.purge(gd);\n",
              "            observer.disconnect();\n",
              "        }}\n",
              "}});\n",
              "\n",
              "// Listen for the removal of the full notebook cells\n",
              "var notebookContainer = gd.closest('#notebook-container');\n",
              "if (notebookContainer) {{\n",
              "    x.observe(notebookContainer, {childList: true});\n",
              "}}\n",
              "\n",
              "// Listen for the clearing of the current output cell\n",
              "var outputEl = gd.closest('.output');\n",
              "if (outputEl) {{\n",
              "    x.observe(outputEl, {childList: true});\n",
              "}}\n",
              "\n",
              "                        })                };                            </script>        </div>\n",
              "</body>\n",
              "</html>"
            ]
          },
          "metadata": {}
        }
      ]
    },
    {
      "cell_type": "markdown",
      "source": [
        "# Recursive autoregressive forecasting\n",
        "example from https://www.cienciadedatos.net/documentos/py27-time-series-forecasting-python-scikitlearn.html"
      ],
      "metadata": {
        "id": "tndhvluSwBPG"
      }
    },
    {
      "cell_type": "code",
      "source": [
        "## Modeling and Forecasting\n",
        "# ==============================================================================\n",
        "#!pip install skforecast\n",
        "from sklearn.linear_model import LinearRegression\n",
        "from sklearn.linear_model import Lasso\n",
        "from sklearn.ensemble import RandomForestRegressor\n",
        "from sklearn.metrics import mean_squared_error\n",
        "from sklearn.preprocessing import StandardScaler\n",
        "from sklearn.pipeline import make_pipeline\n",
        "\n",
        "from skforecast.ForecasterAutoreg import ForecasterAutoreg\n",
        "from skforecast.ForecasterAutoregCustom import ForecasterAutoregCustom\n",
        "from skforecast.ForecasterAutoregMultiOutput import ForecasterAutoregMultiOutput\n",
        "from skforecast.model_selection import grid_search_forecaster\n",
        "from skforecast.model_selection import backtesting_forecaster"
      ],
      "metadata": {
        "id": "RsVLfGL9wAd6"
      },
      "execution_count": 211,
      "outputs": []
    },
    {
      "cell_type": "code",
      "source": [
        "# Hyperparameter Grid search\n",
        "# ==============================================================================\n",
        "steps = 3\n",
        "forecaster = ForecasterAutoreg(\n",
        "                regressor = RandomForestRegressor(random_state=123),\n",
        "                lags      = 12 # This value will be replaced in the grid search\n",
        "             )\n",
        "\n",
        "# Lags used as predictors\n",
        "lags_grid = [2, 3]\n",
        "\n",
        "# Regressor's hyperparameters\n",
        "param_grid = {'n_estimators': [20,30, 50,100],\n",
        "              'max_depth': [3, 5, 7,9]}\n",
        "\n",
        "results_grid = grid_search_forecaster(\n",
        "                        forecaster         = forecaster,\n",
        "                        y                  = train['avg_d_mbps'],\n",
        "                        param_grid         = param_grid,\n",
        "                        lags_grid          = lags_grid,\n",
        "                        steps              = steps,\n",
        "                        refit              = True,\n",
        "                        metric             = 'mean_squared_error',\n",
        "                        initial_train_size = int(len(train)*0.7),\n",
        "                        fixed_train_size   = False,\n",
        "                        return_best        = True,\n",
        "                        verbose            = False\n",
        "               )"
      ],
      "metadata": {
        "colab": {
          "base_uri": "https://localhost:8080/"
        },
        "id": "Bp1GnYxhwVqj",
        "outputId": "dee9a91a-a423-42a6-abaf-0f6372e7d5c3"
      },
      "execution_count": 212,
      "outputs": [
        {
          "output_type": "stream",
          "name": "stdout",
          "text": [
            "Number of models compared: 32\n"
          ]
        },
        {
          "output_type": "stream",
          "name": "stderr",
          "text": [
            "loop lags_grid:   0%|                                               | 0/2 [00:00<?, ?it/s]\n",
            "loop param_grid:   0%|                                             | 0/16 [00:00<?, ?it/s]\u001b[A\n",
            "loop param_grid:  12%|████▋                                | 2/16 [00:00<00:01, 10.84it/s]\u001b[A\n",
            "loop param_grid:  25%|█████████▎                           | 4/16 [00:00<00:02,  5.75it/s]\u001b[A\n",
            "loop param_grid:  38%|█████████████▉                       | 6/16 [00:00<00:01,  7.49it/s]\u001b[A\n",
            "loop param_grid:  44%|████████████████▏                    | 7/16 [00:00<00:01,  7.02it/s]\u001b[A\n",
            "loop param_grid:  50%|██████████████████▌                  | 8/16 [00:01<00:01,  5.43it/s]\u001b[A\n",
            "loop param_grid:  62%|██████████████████████▌             | 10/16 [00:01<00:00,  6.78it/s]\u001b[A\n",
            "loop param_grid:  69%|████████████████████████▊           | 11/16 [00:01<00:00,  6.48it/s]\u001b[A\n",
            "loop param_grid:  75%|███████████████████████████         | 12/16 [00:01<00:00,  5.22it/s]\u001b[A\n",
            "loop param_grid:  88%|███████████████████████████████▌    | 14/16 [00:02<00:00,  6.47it/s]\u001b[A\n",
            "loop param_grid:  94%|█████████████████████████████████▊  | 15/16 [00:02<00:00,  6.40it/s]\u001b[A\n",
            "loop param_grid: 100%|████████████████████████████████████| 16/16 [00:02<00:00,  5.15it/s]\u001b[A\n",
            "loop lags_grid:  50%|███████████████████▌                   | 1/2 [00:02<00:02,  2.67s/it]\n",
            "loop param_grid:   0%|                                             | 0/16 [00:00<?, ?it/s]\u001b[A\n",
            "loop param_grid:  12%|████▋                                | 2/16 [00:00<00:01, 11.04it/s]\u001b[A\n",
            "loop param_grid:  25%|█████████▎                           | 4/16 [00:00<00:02,  5.99it/s]\u001b[A\n",
            "loop param_grid:  38%|█████████████▉                       | 6/16 [00:00<00:01,  7.32it/s]\u001b[A\n",
            "loop param_grid:  44%|████████████████▏                    | 7/16 [00:00<00:01,  6.92it/s]\u001b[A\n",
            "loop param_grid:  50%|██████████████████▌                  | 8/16 [00:01<00:01,  5.32it/s]\u001b[A\n",
            "loop param_grid:  62%|██████████████████████▌             | 10/16 [00:01<00:00,  6.78it/s]\u001b[A\n",
            "loop param_grid:  69%|████████████████████████▊           | 11/16 [00:01<00:00,  6.69it/s]\u001b[A\n",
            "loop param_grid:  75%|███████████████████████████         | 12/16 [00:01<00:00,  5.12it/s]\u001b[A\n",
            "loop param_grid:  88%|███████████████████████████████▌    | 14/16 [00:02<00:00,  6.50it/s]\u001b[A\n",
            "loop param_grid:  94%|█████████████████████████████████▊  | 15/16 [00:02<00:00,  6.44it/s]\u001b[A\n",
            "loop param_grid: 100%|████████████████████████████████████| 16/16 [00:02<00:00,  5.01it/s]\u001b[A\n",
            "loop lags_grid: 100%|███████████████████████████████████████| 2/2 [00:05<00:00,  2.68s/it]"
          ]
        },
        {
          "output_type": "stream",
          "name": "stdout",
          "text": [
            "`Forecaster` refitted using the best-found lags and parameters, and the whole data set: \n",
            "  Lags: [1 2] \n",
            "  Parameters: {'max_depth': 9, 'n_estimators': 50}\n",
            "  Backtesting metric: 217.60280004913488\n",
            "\n"
          ]
        },
        {
          "output_type": "stream",
          "name": "stderr",
          "text": [
            "\n"
          ]
        }
      ]
    },
    {
      "cell_type": "code",
      "source": [
        "# Grid Search results\n",
        "# ==============================================================================\n",
        "results_grid.head()"
      ],
      "metadata": {
        "colab": {
          "base_uri": "https://localhost:8080/",
          "height": 523
        },
        "id": "ZkSfWFjO45o6",
        "outputId": "259b3053-d08b-42ab-8edb-611303aa3773"
      },
      "execution_count": 213,
      "outputs": [
        {
          "output_type": "execute_result",
          "data": {
            "text/plain": [
              "      lags                                 params      metric  max_depth  \\\n",
              "14  [1, 2]   {'max_depth': 9, 'n_estimators': 50}  217.602800          9   \n",
              "6   [1, 2]   {'max_depth': 5, 'n_estimators': 50}  217.602800          5   \n",
              "10  [1, 2]   {'max_depth': 7, 'n_estimators': 50}  217.602800          7   \n",
              "2   [1, 2]   {'max_depth': 3, 'n_estimators': 50}  217.754763          3   \n",
              "15  [1, 2]  {'max_depth': 9, 'n_estimators': 100}  218.034735          9   \n",
              "\n",
              "    n_estimators  \n",
              "14            50  \n",
              "6             50  \n",
              "10            50  \n",
              "2             50  \n",
              "15           100  "
            ],
            "text/html": [
              "\n",
              "  <div id=\"df-7803a2c2-3f39-4b78-879a-dae05aa6aa05\">\n",
              "    <div class=\"colab-df-container\">\n",
              "      <div>\n",
              "<style scoped>\n",
              "    .dataframe tbody tr th:only-of-type {\n",
              "        vertical-align: middle;\n",
              "    }\n",
              "\n",
              "    .dataframe tbody tr th {\n",
              "        vertical-align: top;\n",
              "    }\n",
              "\n",
              "    .dataframe thead th {\n",
              "        text-align: right;\n",
              "    }\n",
              "</style>\n",
              "<table border=\"1\" class=\"dataframe\">\n",
              "  <thead>\n",
              "    <tr style=\"text-align: right;\">\n",
              "      <th></th>\n",
              "      <th>lags</th>\n",
              "      <th>params</th>\n",
              "      <th>metric</th>\n",
              "      <th>max_depth</th>\n",
              "      <th>n_estimators</th>\n",
              "    </tr>\n",
              "  </thead>\n",
              "  <tbody>\n",
              "    <tr>\n",
              "      <th>14</th>\n",
              "      <td>[1, 2]</td>\n",
              "      <td>{'max_depth': 9, 'n_estimators': 50}</td>\n",
              "      <td>217.602800</td>\n",
              "      <td>9</td>\n",
              "      <td>50</td>\n",
              "    </tr>\n",
              "    <tr>\n",
              "      <th>6</th>\n",
              "      <td>[1, 2]</td>\n",
              "      <td>{'max_depth': 5, 'n_estimators': 50}</td>\n",
              "      <td>217.602800</td>\n",
              "      <td>5</td>\n",
              "      <td>50</td>\n",
              "    </tr>\n",
              "    <tr>\n",
              "      <th>10</th>\n",
              "      <td>[1, 2]</td>\n",
              "      <td>{'max_depth': 7, 'n_estimators': 50}</td>\n",
              "      <td>217.602800</td>\n",
              "      <td>7</td>\n",
              "      <td>50</td>\n",
              "    </tr>\n",
              "    <tr>\n",
              "      <th>2</th>\n",
              "      <td>[1, 2]</td>\n",
              "      <td>{'max_depth': 3, 'n_estimators': 50}</td>\n",
              "      <td>217.754763</td>\n",
              "      <td>3</td>\n",
              "      <td>50</td>\n",
              "    </tr>\n",
              "    <tr>\n",
              "      <th>15</th>\n",
              "      <td>[1, 2]</td>\n",
              "      <td>{'max_depth': 9, 'n_estimators': 100}</td>\n",
              "      <td>218.034735</td>\n",
              "      <td>9</td>\n",
              "      <td>100</td>\n",
              "    </tr>\n",
              "  </tbody>\n",
              "</table>\n",
              "</div>\n",
              "      <button class=\"colab-df-convert\" onclick=\"convertToInteractive('df-7803a2c2-3f39-4b78-879a-dae05aa6aa05')\"\n",
              "              title=\"Convert this dataframe to an interactive table.\"\n",
              "              style=\"display:none;\">\n",
              "        \n",
              "  <svg xmlns=\"http://www.w3.org/2000/svg\" height=\"24px\"viewBox=\"0 0 24 24\"\n",
              "       width=\"24px\">\n",
              "    <path d=\"M0 0h24v24H0V0z\" fill=\"none\"/>\n",
              "    <path d=\"M18.56 5.44l.94 2.06.94-2.06 2.06-.94-2.06-.94-.94-2.06-.94 2.06-2.06.94zm-11 1L8.5 8.5l.94-2.06 2.06-.94-2.06-.94L8.5 2.5l-.94 2.06-2.06.94zm10 10l.94 2.06.94-2.06 2.06-.94-2.06-.94-.94-2.06-.94 2.06-2.06.94z\"/><path d=\"M17.41 7.96l-1.37-1.37c-.4-.4-.92-.59-1.43-.59-.52 0-1.04.2-1.43.59L10.3 9.45l-7.72 7.72c-.78.78-.78 2.05 0 2.83L4 21.41c.39.39.9.59 1.41.59.51 0 1.02-.2 1.41-.59l7.78-7.78 2.81-2.81c.8-.78.8-2.07 0-2.86zM5.41 20L4 18.59l7.72-7.72 1.47 1.35L5.41 20z\"/>\n",
              "  </svg>\n",
              "      </button>\n",
              "      \n",
              "  <style>\n",
              "    .colab-df-container {\n",
              "      display:flex;\n",
              "      flex-wrap:wrap;\n",
              "      gap: 12px;\n",
              "    }\n",
              "\n",
              "    .colab-df-convert {\n",
              "      background-color: #E8F0FE;\n",
              "      border: none;\n",
              "      border-radius: 50%;\n",
              "      cursor: pointer;\n",
              "      display: none;\n",
              "      fill: #1967D2;\n",
              "      height: 32px;\n",
              "      padding: 0 0 0 0;\n",
              "      width: 32px;\n",
              "    }\n",
              "\n",
              "    .colab-df-convert:hover {\n",
              "      background-color: #E2EBFA;\n",
              "      box-shadow: 0px 1px 2px rgba(60, 64, 67, 0.3), 0px 1px 3px 1px rgba(60, 64, 67, 0.15);\n",
              "      fill: #174EA6;\n",
              "    }\n",
              "\n",
              "    [theme=dark] .colab-df-convert {\n",
              "      background-color: #3B4455;\n",
              "      fill: #D2E3FC;\n",
              "    }\n",
              "\n",
              "    [theme=dark] .colab-df-convert:hover {\n",
              "      background-color: #434B5C;\n",
              "      box-shadow: 0px 1px 3px 1px rgba(0, 0, 0, 0.15);\n",
              "      filter: drop-shadow(0px 1px 2px rgba(0, 0, 0, 0.3));\n",
              "      fill: #FFFFFF;\n",
              "    }\n",
              "  </style>\n",
              "\n",
              "      <script>\n",
              "        const buttonEl =\n",
              "          document.querySelector('#df-7803a2c2-3f39-4b78-879a-dae05aa6aa05 button.colab-df-convert');\n",
              "        buttonEl.style.display =\n",
              "          google.colab.kernel.accessAllowed ? 'block' : 'none';\n",
              "\n",
              "        async function convertToInteractive(key) {\n",
              "          const element = document.querySelector('#df-7803a2c2-3f39-4b78-879a-dae05aa6aa05');\n",
              "          const dataTable =\n",
              "            await google.colab.kernel.invokeFunction('convertToInteractive',\n",
              "                                                     [key], {});\n",
              "          if (!dataTable) return;\n",
              "\n",
              "          const docLinkHtml = 'Like what you see? Visit the ' +\n",
              "            '<a target=\"_blank\" href=https://colab.research.google.com/notebooks/data_table.ipynb>data table notebook</a>'\n",
              "            + ' to learn more about interactive tables.';\n",
              "          element.innerHTML = '';\n",
              "          dataTable['output_type'] = 'display_data';\n",
              "          await google.colab.output.renderOutput(dataTable, element);\n",
              "          const docLink = document.createElement('div');\n",
              "          docLink.innerHTML = docLinkHtml;\n",
              "          element.appendChild(docLink);\n",
              "        }\n",
              "      </script>\n",
              "    </div>\n",
              "  </div>\n",
              "  "
            ]
          },
          "metadata": {},
          "execution_count": 213
        }
      ]
    },
    {
      "cell_type": "code",
      "source": [
        "regressor = RandomForestRegressor(max_depth=9, n_estimators=50, random_state=123)\n",
        "forecaster = ForecasterAutoreg(\n",
        "                regressor = regressor,\n",
        "                lags      = 2\n",
        "             )\n",
        "forecaster.fit(y=train['avg_d_mbps'])"
      ],
      "metadata": {
        "id": "QIdPuCUR5Pak"
      },
      "execution_count": 214,
      "outputs": []
    },
    {
      "cell_type": "code",
      "source": [
        "# Predictions\n",
        "# ==============================================================================\n",
        "prediction_ra = forecaster.predict(steps=1)\n",
        "y_pred[\"Recursive autoregressive\"]=prediction_ra.values"
      ],
      "metadata": {
        "id": "fKYQhf8l6-EG"
      },
      "execution_count": 215,
      "outputs": []
    },
    {
      "cell_type": "code",
      "source": [
        "RMSE_scores.append(np.sqrt(mean_squared_error(y_pred[\"avg_d_mbps\"],prediction_ra)))\n",
        "MSE_scores.append(mean_squared_error(y_pred[\"avg_d_mbps\"],prediction_ra))\n",
        "print(\"Root Mean Square Error for Recursive autoregressive: \",np.sqrt(mean_squared_error(y_pred[\"avg_d_mbps\"],prediction_ra)))\n",
        "print(\"Mean Square Error for Recursive autoregressive: \",mean_squared_error(y_pred[\"avg_d_mbps\"],prediction_ra))"
      ],
      "metadata": {
        "colab": {
          "base_uri": "https://localhost:8080/"
        },
        "id": "ajP_QnDq5teg",
        "outputId": "f0ceac0a-b41c-4119-fc5a-065628d0bf58"
      },
      "execution_count": 216,
      "outputs": [
        {
          "output_type": "stream",
          "name": "stdout",
          "text": [
            "Root Mean Square Error for Recursive autoregressive:  8.916487846497901\n",
            "Mean Square Error for Recursive autoregressive:  79.50375551674477\n"
          ]
        }
      ]
    },
    {
      "cell_type": "markdown",
      "source": [
        "# Recursive autoregressive forecasting with exogenous variables"
      ],
      "metadata": {
        "id": "bS3JxTCq8vOt"
      }
    },
    {
      "cell_type": "code",
      "source": [
        "# Hyperparameter Grid search\n",
        "# ==============================================================================\n",
        "steps = 3\n",
        "forecaster = ForecasterAutoreg(\n",
        "                regressor = RandomForestRegressor(random_state=123),\n",
        "                lags      = 12 # This value will be replaced in the grid search\n",
        "             )\n",
        "lags_grid = [2, 3]\n",
        "\n",
        "param_grid = {'n_estimators': [20, 30, 50, 100],\n",
        "              'max_depth': [3, 5, 7,9]}\n",
        "\n",
        "results_grid = grid_search_forecaster(\n",
        "                        forecaster  = forecaster,\n",
        "                        y           = train['avg_d_mbps'],\n",
        "                        exog        = train['DA_POP'],\n",
        "                        param_grid  = param_grid,\n",
        "                        lags_grid   = lags_grid,\n",
        "                        steps       = steps,\n",
        "                        refit       = True,\n",
        "                        metric      = 'mean_squared_error',\n",
        "                        initial_train_size = int(len(train)*0.7),\n",
        "                        return_best = True,\n",
        "                        verbose     = False\n",
        "               )"
      ],
      "metadata": {
        "colab": {
          "base_uri": "https://localhost:8080/"
        },
        "id": "0mDGvZHY7qAJ",
        "outputId": "6ce79242-2349-4a16-c1a4-9c70ccc81f71"
      },
      "execution_count": 217,
      "outputs": [
        {
          "output_type": "stream",
          "name": "stdout",
          "text": [
            "Number of models compared: 32\n"
          ]
        },
        {
          "output_type": "stream",
          "name": "stderr",
          "text": [
            "loop lags_grid:   0%|                                               | 0/2 [00:00<?, ?it/s]\n",
            "loop param_grid:   0%|                                             | 0/16 [00:00<?, ?it/s]\u001b[A\n",
            "loop param_grid:  12%|████▋                                | 2/16 [00:00<00:01,  8.89it/s]\u001b[A\n",
            "loop param_grid:  19%|██████▉                              | 3/16 [00:00<00:01,  6.74it/s]\u001b[A\n",
            "loop param_grid:  25%|█████████▎                           | 4/16 [00:00<00:02,  4.61it/s]\u001b[A\n",
            "loop param_grid:  31%|███████████▌                         | 5/16 [00:00<00:01,  5.64it/s]\u001b[A\n",
            "loop param_grid:  38%|█████████████▉                       | 6/16 [00:00<00:01,  6.37it/s]\u001b[A\n",
            "loop param_grid:  44%|████████████████▏                    | 7/16 [00:01<00:01,  6.29it/s]\u001b[A\n",
            "loop param_grid:  50%|██████████████████▌                  | 8/16 [00:01<00:01,  4.97it/s]\u001b[A\n",
            "loop param_grid:  62%|██████████████████████▌             | 10/16 [00:01<00:00,  6.67it/s]\u001b[A\n",
            "loop param_grid:  69%|████████████████████████▊           | 11/16 [00:01<00:00,  6.34it/s]\u001b[A\n",
            "loop param_grid:  75%|███████████████████████████         | 12/16 [00:02<00:00,  4.94it/s]\u001b[A\n",
            "loop param_grid:  88%|███████████████████████████████▌    | 14/16 [00:02<00:00,  6.37it/s]\u001b[A\n",
            "loop param_grid:  94%|█████████████████████████████████▊  | 15/16 [00:02<00:00,  6.26it/s]\u001b[A\n",
            "loop param_grid: 100%|████████████████████████████████████| 16/16 [00:02<00:00,  4.92it/s]\u001b[A\n",
            "loop lags_grid:  50%|███████████████████▌                   | 1/2 [00:02<00:02,  2.85s/it]\n",
            "loop param_grid:   0%|                                             | 0/16 [00:00<?, ?it/s]\u001b[A\n",
            "loop param_grid:  12%|████▋                                | 2/16 [00:00<00:01,  9.79it/s]\u001b[A\n",
            "loop param_grid:  19%|██████▉                              | 3/16 [00:00<00:02,  5.31it/s]\u001b[A\n",
            "loop param_grid:  25%|█████████▎                           | 4/16 [00:00<00:02,  4.30it/s]\u001b[A\n",
            "loop param_grid:  38%|█████████████▉                       | 6/16 [00:01<00:01,  6.22it/s]\u001b[A\n",
            "loop param_grid:  44%|████████████████▏                    | 7/16 [00:01<00:01,  5.92it/s]\u001b[A\n",
            "loop param_grid:  50%|██████████████████▌                  | 8/16 [00:01<00:01,  4.92it/s]\u001b[A\n",
            "loop param_grid:  62%|██████████████████████▌             | 10/16 [00:01<00:00,  6.51it/s]\u001b[A\n",
            "loop param_grid:  69%|████████████████████████▊           | 11/16 [00:01<00:00,  6.47it/s]\u001b[A\n",
            "loop param_grid:  75%|███████████████████████████         | 12/16 [00:02<00:00,  5.07it/s]\u001b[A\n",
            "loop param_grid:  88%|███████████████████████████████▌    | 14/16 [00:02<00:00,  6.56it/s]\u001b[A\n",
            "loop param_grid:  94%|█████████████████████████████████▊  | 15/16 [00:02<00:00,  6.45it/s]\u001b[A\n",
            "loop param_grid: 100%|████████████████████████████████████| 16/16 [00:02<00:00,  5.22it/s]\u001b[A\n",
            "loop lags_grid: 100%|███████████████████████████████████████| 2/2 [00:05<00:00,  2.84s/it]"
          ]
        },
        {
          "output_type": "stream",
          "name": "stdout",
          "text": [
            "`Forecaster` refitted using the best-found lags and parameters, and the whole data set: \n",
            "  Lags: [1 2] \n",
            "  Parameters: {'max_depth': 9, 'n_estimators': 50}\n",
            "  Backtesting metric: 218.14617575483715\n",
            "\n"
          ]
        },
        {
          "output_type": "stream",
          "name": "stderr",
          "text": [
            "\n"
          ]
        }
      ]
    },
    {
      "cell_type": "code",
      "source": [
        "# Predictions\n",
        "# ==============================================================================\n",
        "predictions_ra_e = forecaster.predict(steps=1, exog=valid['DA_POP'])\n",
        "y_pred[\"Recursive autoregressive\"]=predictions_ra_e.values"
      ],
      "metadata": {
        "id": "WEW-xXCO-yi6"
      },
      "execution_count": 218,
      "outputs": []
    },
    {
      "cell_type": "code",
      "source": [
        "RMSE_scores.append(np.sqrt(mean_squared_error(y_pred[\"avg_d_mbps\"],predictions_ra_e)))\n",
        "MSE_scores.append(mean_squared_error(y_pred[\"avg_d_mbps\"],predictions_ra_e))\n",
        "print(\"Root Mean Square Error for Recursive autoregressive: \",np.sqrt(mean_squared_error(y_pred[\"avg_d_mbps\"],predictions_ra_e)))\n",
        "print(\"Mean Square Error for Recursive autoregressive: \",mean_squared_error(y_pred[\"avg_d_mbps\"],predictions_ra_e))"
      ],
      "metadata": {
        "colab": {
          "base_uri": "https://localhost:8080/"
        },
        "id": "BtUR09F0CWKJ",
        "outputId": "08fad5dc-4ae3-4c46-a87a-d471b48941b6"
      },
      "execution_count": 219,
      "outputs": [
        {
          "output_type": "stream",
          "name": "stdout",
          "text": [
            "Root Mean Square Error for Recursive autoregressive:  10.082445949153993\n",
            "Mean Square Error for Recursive autoregressive:  101.65571631761175\n"
          ]
        }
      ]
    },
    {
      "cell_type": "markdown",
      "source": [
        "# Model comparison"
      ],
      "metadata": {
        "id": "iVLpnI4rPX_F"
      }
    },
    {
      "cell_type": "code",
      "source": [
        "model_names=[\"Auto Regressive Model (AR)\",\"ARIMA Model\",\"Auto Regressive Model with exogenous variables\", \n",
        "             \"Recursive autoregressive model\", \"Recursive autoregressive model with exogenous variables\"]\n",
        "model_summary=pd.DataFrame(zip(model_names,RMSE_scores, MSE_scores),\n",
        "                           columns=[\"Model Name\",\"Root Mean Squared Error\", \"Mean Squared Error\"]).sort_values([\"Root Mean Squared Error\"])\n",
        "model_summary"
      ],
      "metadata": {
        "colab": {
          "base_uri": "https://localhost:8080/",
          "height": 204
        },
        "id": "m_R8-l8JOyOZ",
        "outputId": "8a2caf45-708c-4654-d841-334fed1e7f0a"
      },
      "execution_count": 220,
      "outputs": [
        {
          "output_type": "execute_result",
          "data": {
            "text/plain": [
              "                                          Model Name  Root Mean Squared Error  \\\n",
              "2     Auto Regressive Model with exogenous variables                 5.294173   \n",
              "0                         Auto Regressive Model (AR)                 6.531194   \n",
              "1                                        ARIMA Model                 8.354460   \n",
              "3                     Recursive autoregressive model                 8.916488   \n",
              "4  Recursive autoregressive model with exogenous ...                10.082446   \n",
              "\n",
              "   Mean Squared Error  \n",
              "2           28.028263  \n",
              "0           42.656498  \n",
              "1           69.797005  \n",
              "3           79.503756  \n",
              "4          101.655716  "
            ],
            "text/html": [
              "\n",
              "  <div id=\"df-f3bc4f12-6ca5-4551-ad53-bf700fffe78a\">\n",
              "    <div class=\"colab-df-container\">\n",
              "      <div>\n",
              "<style scoped>\n",
              "    .dataframe tbody tr th:only-of-type {\n",
              "        vertical-align: middle;\n",
              "    }\n",
              "\n",
              "    .dataframe tbody tr th {\n",
              "        vertical-align: top;\n",
              "    }\n",
              "\n",
              "    .dataframe thead th {\n",
              "        text-align: right;\n",
              "    }\n",
              "</style>\n",
              "<table border=\"1\" class=\"dataframe\">\n",
              "  <thead>\n",
              "    <tr style=\"text-align: right;\">\n",
              "      <th></th>\n",
              "      <th>Model Name</th>\n",
              "      <th>Root Mean Squared Error</th>\n",
              "      <th>Mean Squared Error</th>\n",
              "    </tr>\n",
              "  </thead>\n",
              "  <tbody>\n",
              "    <tr>\n",
              "      <th>2</th>\n",
              "      <td>Auto Regressive Model with exogenous variables</td>\n",
              "      <td>5.294173</td>\n",
              "      <td>28.028263</td>\n",
              "    </tr>\n",
              "    <tr>\n",
              "      <th>0</th>\n",
              "      <td>Auto Regressive Model (AR)</td>\n",
              "      <td>6.531194</td>\n",
              "      <td>42.656498</td>\n",
              "    </tr>\n",
              "    <tr>\n",
              "      <th>1</th>\n",
              "      <td>ARIMA Model</td>\n",
              "      <td>8.354460</td>\n",
              "      <td>69.797005</td>\n",
              "    </tr>\n",
              "    <tr>\n",
              "      <th>3</th>\n",
              "      <td>Recursive autoregressive model</td>\n",
              "      <td>8.916488</td>\n",
              "      <td>79.503756</td>\n",
              "    </tr>\n",
              "    <tr>\n",
              "      <th>4</th>\n",
              "      <td>Recursive autoregressive model with exogenous ...</td>\n",
              "      <td>10.082446</td>\n",
              "      <td>101.655716</td>\n",
              "    </tr>\n",
              "  </tbody>\n",
              "</table>\n",
              "</div>\n",
              "      <button class=\"colab-df-convert\" onclick=\"convertToInteractive('df-f3bc4f12-6ca5-4551-ad53-bf700fffe78a')\"\n",
              "              title=\"Convert this dataframe to an interactive table.\"\n",
              "              style=\"display:none;\">\n",
              "        \n",
              "  <svg xmlns=\"http://www.w3.org/2000/svg\" height=\"24px\"viewBox=\"0 0 24 24\"\n",
              "       width=\"24px\">\n",
              "    <path d=\"M0 0h24v24H0V0z\" fill=\"none\"/>\n",
              "    <path d=\"M18.56 5.44l.94 2.06.94-2.06 2.06-.94-2.06-.94-.94-2.06-.94 2.06-2.06.94zm-11 1L8.5 8.5l.94-2.06 2.06-.94-2.06-.94L8.5 2.5l-.94 2.06-2.06.94zm10 10l.94 2.06.94-2.06 2.06-.94-2.06-.94-.94-2.06-.94 2.06-2.06.94z\"/><path d=\"M17.41 7.96l-1.37-1.37c-.4-.4-.92-.59-1.43-.59-.52 0-1.04.2-1.43.59L10.3 9.45l-7.72 7.72c-.78.78-.78 2.05 0 2.83L4 21.41c.39.39.9.59 1.41.59.51 0 1.02-.2 1.41-.59l7.78-7.78 2.81-2.81c.8-.78.8-2.07 0-2.86zM5.41 20L4 18.59l7.72-7.72 1.47 1.35L5.41 20z\"/>\n",
              "  </svg>\n",
              "      </button>\n",
              "      \n",
              "  <style>\n",
              "    .colab-df-container {\n",
              "      display:flex;\n",
              "      flex-wrap:wrap;\n",
              "      gap: 12px;\n",
              "    }\n",
              "\n",
              "    .colab-df-convert {\n",
              "      background-color: #E8F0FE;\n",
              "      border: none;\n",
              "      border-radius: 50%;\n",
              "      cursor: pointer;\n",
              "      display: none;\n",
              "      fill: #1967D2;\n",
              "      height: 32px;\n",
              "      padding: 0 0 0 0;\n",
              "      width: 32px;\n",
              "    }\n",
              "\n",
              "    .colab-df-convert:hover {\n",
              "      background-color: #E2EBFA;\n",
              "      box-shadow: 0px 1px 2px rgba(60, 64, 67, 0.3), 0px 1px 3px 1px rgba(60, 64, 67, 0.15);\n",
              "      fill: #174EA6;\n",
              "    }\n",
              "\n",
              "    [theme=dark] .colab-df-convert {\n",
              "      background-color: #3B4455;\n",
              "      fill: #D2E3FC;\n",
              "    }\n",
              "\n",
              "    [theme=dark] .colab-df-convert:hover {\n",
              "      background-color: #434B5C;\n",
              "      box-shadow: 0px 1px 3px 1px rgba(0, 0, 0, 0.15);\n",
              "      filter: drop-shadow(0px 1px 2px rgba(0, 0, 0, 0.3));\n",
              "      fill: #FFFFFF;\n",
              "    }\n",
              "  </style>\n",
              "\n",
              "      <script>\n",
              "        const buttonEl =\n",
              "          document.querySelector('#df-f3bc4f12-6ca5-4551-ad53-bf700fffe78a button.colab-df-convert');\n",
              "        buttonEl.style.display =\n",
              "          google.colab.kernel.accessAllowed ? 'block' : 'none';\n",
              "\n",
              "        async function convertToInteractive(key) {\n",
              "          const element = document.querySelector('#df-f3bc4f12-6ca5-4551-ad53-bf700fffe78a');\n",
              "          const dataTable =\n",
              "            await google.colab.kernel.invokeFunction('convertToInteractive',\n",
              "                                                     [key], {});\n",
              "          if (!dataTable) return;\n",
              "\n",
              "          const docLinkHtml = 'Like what you see? Visit the ' +\n",
              "            '<a target=\"_blank\" href=https://colab.research.google.com/notebooks/data_table.ipynb>data table notebook</a>'\n",
              "            + ' to learn more about interactive tables.';\n",
              "          element.innerHTML = '';\n",
              "          dataTable['output_type'] = 'display_data';\n",
              "          await google.colab.output.renderOutput(dataTable, element);\n",
              "          const docLink = document.createElement('div');\n",
              "          docLink.innerHTML = docLinkHtml;\n",
              "          element.appendChild(docLink);\n",
              "        }\n",
              "      </script>\n",
              "    </div>\n",
              "  </div>\n",
              "  "
            ]
          },
          "metadata": {},
          "execution_count": 220
        }
      ]
    },
    {
      "cell_type": "code",
      "source": [
        "RMSE_scores"
      ],
      "metadata": {
        "colab": {
          "base_uri": "https://localhost:8080/"
        },
        "id": "rS_fRdGR70It",
        "outputId": "61714907-6bd6-4aab-bd0f-dc6f18b054b1"
      },
      "execution_count": 221,
      "outputs": [
        {
          "output_type": "execute_result",
          "data": {
            "text/plain": [
              "[6.531194237847565,\n",
              " 8.354460161478627,\n",
              " 5.294172542859052,\n",
              " 8.916487846497901,\n",
              " 10.082445949153993]"
            ]
          },
          "metadata": {},
          "execution_count": 221
        }
      ]
    },
    {
      "cell_type": "code",
      "source": [
        ""
      ],
      "metadata": {
        "id": "oGOscMWd7_pt"
      },
      "execution_count": 221,
      "outputs": []
    }
  ]
}